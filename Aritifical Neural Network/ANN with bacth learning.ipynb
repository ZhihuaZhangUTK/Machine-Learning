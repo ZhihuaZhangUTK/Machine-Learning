{
 "cells": [
  {
   "cell_type": "code",
   "execution_count": 1,
   "metadata": {
    "collapsed": true
   },
   "outputs": [],
   "source": [
    "import numpy as np\n",
    "import math\n",
    "import matplotlib.pyplot as plt\n",
    "import pandas as pd"
   ]
  },
  {
   "cell_type": "markdown",
   "metadata": {},
   "source": [
    "# Load data"
   ]
  },
  {
   "cell_type": "code",
   "execution_count": 2,
   "metadata": {
    "collapsed": true
   },
   "outputs": [],
   "source": [
    "df = pd.read_csv('spambase.data', header=None)"
   ]
  },
  {
   "cell_type": "code",
   "execution_count": 3,
   "metadata": {},
   "outputs": [
    {
     "data": {
      "text/html": [
       "<div>\n",
       "<style>\n",
       "    .dataframe thead tr:only-child th {\n",
       "        text-align: right;\n",
       "    }\n",
       "\n",
       "    .dataframe thead th {\n",
       "        text-align: left;\n",
       "    }\n",
       "\n",
       "    .dataframe tbody tr th {\n",
       "        vertical-align: top;\n",
       "    }\n",
       "</style>\n",
       "<table border=\"1\" class=\"dataframe\">\n",
       "  <thead>\n",
       "    <tr style=\"text-align: right;\">\n",
       "      <th></th>\n",
       "      <th>0</th>\n",
       "      <th>1</th>\n",
       "      <th>2</th>\n",
       "      <th>3</th>\n",
       "      <th>4</th>\n",
       "      <th>5</th>\n",
       "      <th>6</th>\n",
       "      <th>7</th>\n",
       "      <th>8</th>\n",
       "      <th>9</th>\n",
       "      <th>...</th>\n",
       "      <th>48</th>\n",
       "      <th>49</th>\n",
       "      <th>50</th>\n",
       "      <th>51</th>\n",
       "      <th>52</th>\n",
       "      <th>53</th>\n",
       "      <th>54</th>\n",
       "      <th>55</th>\n",
       "      <th>56</th>\n",
       "      <th>57</th>\n",
       "    </tr>\n",
       "  </thead>\n",
       "  <tbody>\n",
       "    <tr>\n",
       "      <th>0</th>\n",
       "      <td>0.00</td>\n",
       "      <td>0.64</td>\n",
       "      <td>0.64</td>\n",
       "      <td>0.0</td>\n",
       "      <td>0.32</td>\n",
       "      <td>0.00</td>\n",
       "      <td>0.00</td>\n",
       "      <td>0.00</td>\n",
       "      <td>0.00</td>\n",
       "      <td>0.00</td>\n",
       "      <td>...</td>\n",
       "      <td>0.00</td>\n",
       "      <td>0.000</td>\n",
       "      <td>0.0</td>\n",
       "      <td>0.778</td>\n",
       "      <td>0.000</td>\n",
       "      <td>0.000</td>\n",
       "      <td>3.756</td>\n",
       "      <td>61</td>\n",
       "      <td>278</td>\n",
       "      <td>1</td>\n",
       "    </tr>\n",
       "    <tr>\n",
       "      <th>1</th>\n",
       "      <td>0.21</td>\n",
       "      <td>0.28</td>\n",
       "      <td>0.50</td>\n",
       "      <td>0.0</td>\n",
       "      <td>0.14</td>\n",
       "      <td>0.28</td>\n",
       "      <td>0.21</td>\n",
       "      <td>0.07</td>\n",
       "      <td>0.00</td>\n",
       "      <td>0.94</td>\n",
       "      <td>...</td>\n",
       "      <td>0.00</td>\n",
       "      <td>0.132</td>\n",
       "      <td>0.0</td>\n",
       "      <td>0.372</td>\n",
       "      <td>0.180</td>\n",
       "      <td>0.048</td>\n",
       "      <td>5.114</td>\n",
       "      <td>101</td>\n",
       "      <td>1028</td>\n",
       "      <td>1</td>\n",
       "    </tr>\n",
       "    <tr>\n",
       "      <th>2</th>\n",
       "      <td>0.06</td>\n",
       "      <td>0.00</td>\n",
       "      <td>0.71</td>\n",
       "      <td>0.0</td>\n",
       "      <td>1.23</td>\n",
       "      <td>0.19</td>\n",
       "      <td>0.19</td>\n",
       "      <td>0.12</td>\n",
       "      <td>0.64</td>\n",
       "      <td>0.25</td>\n",
       "      <td>...</td>\n",
       "      <td>0.01</td>\n",
       "      <td>0.143</td>\n",
       "      <td>0.0</td>\n",
       "      <td>0.276</td>\n",
       "      <td>0.184</td>\n",
       "      <td>0.010</td>\n",
       "      <td>9.821</td>\n",
       "      <td>485</td>\n",
       "      <td>2259</td>\n",
       "      <td>1</td>\n",
       "    </tr>\n",
       "    <tr>\n",
       "      <th>3</th>\n",
       "      <td>0.00</td>\n",
       "      <td>0.00</td>\n",
       "      <td>0.00</td>\n",
       "      <td>0.0</td>\n",
       "      <td>0.63</td>\n",
       "      <td>0.00</td>\n",
       "      <td>0.31</td>\n",
       "      <td>0.63</td>\n",
       "      <td>0.31</td>\n",
       "      <td>0.63</td>\n",
       "      <td>...</td>\n",
       "      <td>0.00</td>\n",
       "      <td>0.137</td>\n",
       "      <td>0.0</td>\n",
       "      <td>0.137</td>\n",
       "      <td>0.000</td>\n",
       "      <td>0.000</td>\n",
       "      <td>3.537</td>\n",
       "      <td>40</td>\n",
       "      <td>191</td>\n",
       "      <td>1</td>\n",
       "    </tr>\n",
       "    <tr>\n",
       "      <th>4</th>\n",
       "      <td>0.00</td>\n",
       "      <td>0.00</td>\n",
       "      <td>0.00</td>\n",
       "      <td>0.0</td>\n",
       "      <td>0.63</td>\n",
       "      <td>0.00</td>\n",
       "      <td>0.31</td>\n",
       "      <td>0.63</td>\n",
       "      <td>0.31</td>\n",
       "      <td>0.63</td>\n",
       "      <td>...</td>\n",
       "      <td>0.00</td>\n",
       "      <td>0.135</td>\n",
       "      <td>0.0</td>\n",
       "      <td>0.135</td>\n",
       "      <td>0.000</td>\n",
       "      <td>0.000</td>\n",
       "      <td>3.537</td>\n",
       "      <td>40</td>\n",
       "      <td>191</td>\n",
       "      <td>1</td>\n",
       "    </tr>\n",
       "  </tbody>\n",
       "</table>\n",
       "<p>5 rows × 58 columns</p>\n",
       "</div>"
      ],
      "text/plain": [
       "     0     1     2    3     4     5     6     7     8     9  ...    48     49  \\\n",
       "0  0.00  0.64  0.64  0.0  0.32  0.00  0.00  0.00  0.00  0.00 ...  0.00  0.000   \n",
       "1  0.21  0.28  0.50  0.0  0.14  0.28  0.21  0.07  0.00  0.94 ...  0.00  0.132   \n",
       "2  0.06  0.00  0.71  0.0  1.23  0.19  0.19  0.12  0.64  0.25 ...  0.01  0.143   \n",
       "3  0.00  0.00  0.00  0.0  0.63  0.00  0.31  0.63  0.31  0.63 ...  0.00  0.137   \n",
       "4  0.00  0.00  0.00  0.0  0.63  0.00  0.31  0.63  0.31  0.63 ...  0.00  0.135   \n",
       "\n",
       "    50     51     52     53     54   55    56  57  \n",
       "0  0.0  0.778  0.000  0.000  3.756   61   278   1  \n",
       "1  0.0  0.372  0.180  0.048  5.114  101  1028   1  \n",
       "2  0.0  0.276  0.184  0.010  9.821  485  2259   1  \n",
       "3  0.0  0.137  0.000  0.000  3.537   40   191   1  \n",
       "4  0.0  0.135  0.000  0.000  3.537   40   191   1  \n",
       "\n",
       "[5 rows x 58 columns]"
      ]
     },
     "execution_count": 3,
     "metadata": {},
     "output_type": "execute_result"
    }
   ],
   "source": [
    "df.head()"
   ]
  },
  {
   "cell_type": "code",
   "execution_count": 4,
   "metadata": {},
   "outputs": [
    {
     "data": {
      "text/plain": [
       "(4601, 58)"
      ]
     },
     "execution_count": 4,
     "metadata": {},
     "output_type": "execute_result"
    }
   ],
   "source": [
    "df.shape"
   ]
  },
  {
   "cell_type": "code",
   "execution_count": 5,
   "metadata": {
    "collapsed": true
   },
   "outputs": [],
   "source": [
    "### get the dummpy variable of labels\n",
    "df = pd.get_dummies(df, columns=[57])"
   ]
  },
  {
   "cell_type": "code",
   "execution_count": 6,
   "metadata": {},
   "outputs": [
    {
     "data": {
      "text/plain": [
       "0"
      ]
     },
     "execution_count": 6,
     "metadata": {},
     "output_type": "execute_result"
    }
   ],
   "source": [
    "### check the missing values, there are no missing values in every variable.\n",
    "sum(df.isnull().sum())"
   ]
  },
  {
   "cell_type": "code",
   "execution_count": 7,
   "metadata": {
    "collapsed": true
   },
   "outputs": [],
   "source": [
    "df_x  = df.iloc[:,:-2]\n",
    "df_y = df.iloc[:, [-1,-2]]"
   ]
  },
  {
   "cell_type": "code",
   "execution_count": 8,
   "metadata": {},
   "outputs": [
    {
     "data": {
      "text/html": [
       "<div>\n",
       "<style>\n",
       "    .dataframe thead tr:only-child th {\n",
       "        text-align: right;\n",
       "    }\n",
       "\n",
       "    .dataframe thead th {\n",
       "        text-align: left;\n",
       "    }\n",
       "\n",
       "    .dataframe tbody tr th {\n",
       "        vertical-align: top;\n",
       "    }\n",
       "</style>\n",
       "<table border=\"1\" class=\"dataframe\">\n",
       "  <thead>\n",
       "    <tr style=\"text-align: right;\">\n",
       "      <th></th>\n",
       "      <th>0</th>\n",
       "      <th>1</th>\n",
       "      <th>2</th>\n",
       "      <th>3</th>\n",
       "      <th>4</th>\n",
       "      <th>5</th>\n",
       "      <th>6</th>\n",
       "      <th>7</th>\n",
       "      <th>8</th>\n",
       "      <th>9</th>\n",
       "      <th>...</th>\n",
       "      <th>47</th>\n",
       "      <th>48</th>\n",
       "      <th>49</th>\n",
       "      <th>50</th>\n",
       "      <th>51</th>\n",
       "      <th>52</th>\n",
       "      <th>53</th>\n",
       "      <th>54</th>\n",
       "      <th>55</th>\n",
       "      <th>56</th>\n",
       "    </tr>\n",
       "  </thead>\n",
       "  <tbody>\n",
       "    <tr>\n",
       "      <th>0</th>\n",
       "      <td>-0.342396</td>\n",
       "      <td>0.330849</td>\n",
       "      <td>0.712781</td>\n",
       "      <td>-0.046894</td>\n",
       "      <td>0.011563</td>\n",
       "      <td>-0.350228</td>\n",
       "      <td>-0.291762</td>\n",
       "      <td>-0.262533</td>\n",
       "      <td>-0.323267</td>\n",
       "      <td>-0.371324</td>\n",
       "      <td>...</td>\n",
       "      <td>-0.111534</td>\n",
       "      <td>-0.158436</td>\n",
       "      <td>-0.514251</td>\n",
       "      <td>-0.155181</td>\n",
       "      <td>0.623939</td>\n",
       "      <td>-0.308321</td>\n",
       "      <td>-0.103037</td>\n",
       "      <td>-0.045242</td>\n",
       "      <td>0.045293</td>\n",
       "      <td>-0.008723</td>\n",
       "    </tr>\n",
       "    <tr>\n",
       "      <th>1</th>\n",
       "      <td>0.345322</td>\n",
       "      <td>0.051904</td>\n",
       "      <td>0.435082</td>\n",
       "      <td>-0.046894</td>\n",
       "      <td>-0.256089</td>\n",
       "      <td>0.672326</td>\n",
       "      <td>0.244717</td>\n",
       "      <td>-0.088001</td>\n",
       "      <td>-0.323267</td>\n",
       "      <td>1.086593</td>\n",
       "      <td>...</td>\n",
       "      <td>-0.111534</td>\n",
       "      <td>-0.158436</td>\n",
       "      <td>-0.026004</td>\n",
       "      <td>-0.155181</td>\n",
       "      <td>0.126189</td>\n",
       "      <td>0.423737</td>\n",
       "      <td>0.008762</td>\n",
       "      <td>-0.002443</td>\n",
       "      <td>0.250536</td>\n",
       "      <td>1.228191</td>\n",
       "    </tr>\n",
       "    <tr>\n",
       "      <th>2</th>\n",
       "      <td>-0.145906</td>\n",
       "      <td>-0.165054</td>\n",
       "      <td>0.851631</td>\n",
       "      <td>-0.046894</td>\n",
       "      <td>1.364698</td>\n",
       "      <td>0.343648</td>\n",
       "      <td>0.193623</td>\n",
       "      <td>0.036666</td>\n",
       "      <td>1.973802</td>\n",
       "      <td>0.016420</td>\n",
       "      <td>...</td>\n",
       "      <td>-0.111534</td>\n",
       "      <td>-0.117364</td>\n",
       "      <td>0.014683</td>\n",
       "      <td>-0.155181</td>\n",
       "      <td>0.008495</td>\n",
       "      <td>0.440005</td>\n",
       "      <td>-0.079746</td>\n",
       "      <td>0.145905</td>\n",
       "      <td>2.220865</td>\n",
       "      <td>3.258378</td>\n",
       "    </tr>\n",
       "    <tr>\n",
       "      <th>3</th>\n",
       "      <td>-0.342396</td>\n",
       "      <td>-0.165054</td>\n",
       "      <td>-0.556700</td>\n",
       "      <td>-0.046894</td>\n",
       "      <td>0.472521</td>\n",
       "      <td>-0.350228</td>\n",
       "      <td>0.500183</td>\n",
       "      <td>1.308259</td>\n",
       "      <td>0.789376</td>\n",
       "      <td>0.605791</td>\n",
       "      <td>...</td>\n",
       "      <td>-0.111534</td>\n",
       "      <td>-0.158436</td>\n",
       "      <td>-0.007510</td>\n",
       "      <td>-0.155181</td>\n",
       "      <td>-0.161917</td>\n",
       "      <td>-0.308321</td>\n",
       "      <td>-0.103037</td>\n",
       "      <td>-0.052144</td>\n",
       "      <td>-0.062459</td>\n",
       "      <td>-0.152205</td>\n",
       "    </tr>\n",
       "    <tr>\n",
       "      <th>4</th>\n",
       "      <td>-0.342396</td>\n",
       "      <td>-0.165054</td>\n",
       "      <td>-0.556700</td>\n",
       "      <td>-0.046894</td>\n",
       "      <td>0.472521</td>\n",
       "      <td>-0.350228</td>\n",
       "      <td>0.500183</td>\n",
       "      <td>1.308259</td>\n",
       "      <td>0.789376</td>\n",
       "      <td>0.605791</td>\n",
       "      <td>...</td>\n",
       "      <td>-0.111534</td>\n",
       "      <td>-0.158436</td>\n",
       "      <td>-0.014908</td>\n",
       "      <td>-0.155181</td>\n",
       "      <td>-0.164369</td>\n",
       "      <td>-0.308321</td>\n",
       "      <td>-0.103037</td>\n",
       "      <td>-0.052144</td>\n",
       "      <td>-0.062459</td>\n",
       "      <td>-0.152205</td>\n",
       "    </tr>\n",
       "  </tbody>\n",
       "</table>\n",
       "<p>5 rows × 57 columns</p>\n",
       "</div>"
      ],
      "text/plain": [
       "         0         1         2         3         4         5         6   \\\n",
       "0 -0.342396  0.330849  0.712781 -0.046894  0.011563 -0.350228 -0.291762   \n",
       "1  0.345322  0.051904  0.435082 -0.046894 -0.256089  0.672326  0.244717   \n",
       "2 -0.145906 -0.165054  0.851631 -0.046894  1.364698  0.343648  0.193623   \n",
       "3 -0.342396 -0.165054 -0.556700 -0.046894  0.472521 -0.350228  0.500183   \n",
       "4 -0.342396 -0.165054 -0.556700 -0.046894  0.472521 -0.350228  0.500183   \n",
       "\n",
       "         7         8         9     ...           47        48        49  \\\n",
       "0 -0.262533 -0.323267 -0.371324    ...    -0.111534 -0.158436 -0.514251   \n",
       "1 -0.088001 -0.323267  1.086593    ...    -0.111534 -0.158436 -0.026004   \n",
       "2  0.036666  1.973802  0.016420    ...    -0.111534 -0.117364  0.014683   \n",
       "3  1.308259  0.789376  0.605791    ...    -0.111534 -0.158436 -0.007510   \n",
       "4  1.308259  0.789376  0.605791    ...    -0.111534 -0.158436 -0.014908   \n",
       "\n",
       "         50        51        52        53        54        55        56  \n",
       "0 -0.155181  0.623939 -0.308321 -0.103037 -0.045242  0.045293 -0.008723  \n",
       "1 -0.155181  0.126189  0.423737  0.008762 -0.002443  0.250536  1.228191  \n",
       "2 -0.155181  0.008495  0.440005 -0.079746  0.145905  2.220865  3.258378  \n",
       "3 -0.155181 -0.161917 -0.308321 -0.103037 -0.052144 -0.062459 -0.152205  \n",
       "4 -0.155181 -0.164369 -0.308321 -0.103037 -0.052144 -0.062459 -0.152205  \n",
       "\n",
       "[5 rows x 57 columns]"
      ]
     },
     "execution_count": 8,
     "metadata": {},
     "output_type": "execute_result"
    }
   ],
   "source": [
    "## standardlize data\n",
    "df_x_std = (df_x-df_x.mean()) / df_x.std()\n",
    "df_x_std.head()"
   ]
  },
  {
   "cell_type": "markdown",
   "metadata": {},
   "source": [
    "# ANN implementation"
   ]
  },
  {
   "cell_type": "code",
   "execution_count": 9,
   "metadata": {
    "collapsed": true
   },
   "outputs": [],
   "source": [
    "class Neural_Network():\n",
    "    def __init__(self, input_dim, output_dim, learning_rate, max_iter, num_layer, num_nodes):\n",
    "        # parameters\n",
    "        self.learning_rate = learning_rate\n",
    "        self.max_iter = max_iter\n",
    "        self.num_layer = num_layer\n",
    "        self.num_nodes = num_nodes\n",
    "        self.input_dim = input_dim\n",
    "        self.output_dim = output_dim\n",
    "        \n",
    "        # initialize the weight matrix \n",
    "        self.W = [np.random.randn(self.input_dim, self.num_nodes)]  # input to hidden layer\n",
    "        self.B = [np.zeros((1, self.num_nodes))]\n",
    "        for _ in range(1, self.num_layer):\n",
    "            self.W.append(np.random.randn(self.num_nodes,self.num_nodes))   # hidden layer to hidden layer\n",
    "            self.B.append(np.zeros((1, self.num_nodes)))\n",
    "        self.W.append(np.random.randn(self.num_nodes,self.output_dim))  # hiddern layer to output \n",
    "        self.B.append(np.zeros((1, self.output_dim)))      \n",
    "    \n",
    "    # activate method: sigmoid\n",
    "    def sigmoid(self, s):\n",
    "        return 1.0/(1 + np.exp(-s))\n",
    "    def sigmod_prime(self, s):\n",
    "        return s * (1-s)\n",
    "    \n",
    "    ## forward\n",
    "    def forward(self, X):\n",
    "        # input layer to output layer forward\n",
    "        self.Z = [X]\n",
    "        for i in range(0, len(self.W)):\n",
    "            z = np.dot(self.Z[i], self.W[i]) + self.B[i]\n",
    "            sz = self.sigmoid(z)\n",
    "            self.Z.append(sz)\n",
    "        # return output\n",
    "        return self.Z[-1]\n",
    "    \n",
    "    # backward\n",
    "    def backward(self,Y, output):\n",
    "        self.deltaZ = [(output-Y) * self.sigmod_prime(output)]\n",
    "        self.deltaW = []\n",
    "        self.deltaB = []\n",
    "        for i in range(len(self.W)-1,-1,-1):\n",
    "            deltaW = np.dot(self.Z[i].T, self.deltaZ[-1])\n",
    "            self.deltaW = [deltaW] + self.deltaW\n",
    "            deltaB = np.sum(self.deltaZ[-1], axis=0)\n",
    "            self.deltaB = [deltaB] + self.deltaB\n",
    "            \n",
    "            # add backward deltaZ in self.Z\n",
    "            dz = np.multiply((self.deltaZ[-1] @ self.W[i].T), self.sigmod_prime(self.Z[i]))\n",
    "            self.deltaZ.append(dz)\n",
    "        \n",
    "        # update the parameters\n",
    "        for i in range(len(self.W)):\n",
    "            self.W[i] += -1*self.learning_rate*self.deltaW[i]\n",
    "            self.B[i] += -1*self.learning_rate*self.deltaB[i]\n",
    "    \n",
    "    # train the data \n",
    "    def train(self, train_x, train_y, print_loss=False):\n",
    "        self.train_x = train_x\n",
    "        self.train_y = train_y\n",
    "        \n",
    "        for i in range(self.max_iter):\n",
    "            output  = self.forward(train_x)\n",
    "            self.backward(train_y, output)\n",
    "            \n",
    "            # Forward propogation to calculate the predictions\n",
    "            if print_loss and i % 50 == 0:\n",
    "                obs = self.train_x.shape[0]\n",
    "                loss = - np.sum(train_y * np.log(output))\n",
    "                print(\"Loss after iteration %i: %f\" %(i, np.sum(loss) / obs))\n",
    "                \n",
    "    def predict(self, val_x):\n",
    "        # Do forward pass\n",
    "        pred = self.forward(val_x)\n",
    "        #get y_hat\n",
    "        y_hat = np.argmax(pred, axis=1)\n",
    "        return y_hat\n",
    "    \n",
    "    def accuracy_score(self,pred,y):\n",
    "        # Get total number of examples\n",
    "        m = y.shape[0]\n",
    "        y_true = y.argmax(axis=1)\n",
    "        # Calculate the number of wrong examples\n",
    "        error = np.sum(np.abs(pred-y_true)) \n",
    "        # Calculate accuracy\n",
    "        return (m-error) / m"
   ]
  },
  {
   "cell_type": "markdown",
   "metadata": {},
   "source": [
    "# Run algorithm"
   ]
  },
  {
   "cell_type": "code",
   "execution_count": 10,
   "metadata": {
    "collapsed": true
   },
   "outputs": [],
   "source": [
    "## random split data, training dataset (80%) and test dataset (20%)\n",
    "from sklearn.model_selection import train_test_split\n",
    "import random\n",
    "\n",
    "## data\n",
    "X = np.array(df_x_std)\n",
    "Y = np.array(df_y)\n",
    "\n",
    "train_x, test_x, train_y, test_y = train_test_split(X, Y, test_size=0.2)"
   ]
  },
  {
   "cell_type": "code",
   "execution_count": 11,
   "metadata": {
    "collapsed": true
   },
   "outputs": [],
   "source": [
    "## run k-folder cross validation function \n",
    "def cv_train_test_split(X, Y, kfolder= 10):\n",
    "    X_split, Y_split = [], []\n",
    "    index = list(range(len(Y)))\n",
    "    random.shuffle(index)   ## shuffle the index to random select\n",
    "    fold_size = int(len(X) / kfolder) + (len(X)%kfolder > 0)\n",
    "    for i in range(kfolder):\n",
    "        X_fold = X[index[i*fold_size: (i+1)*fold_size]]\n",
    "        Y_fold = Y[index[i*fold_size: (i+1)*fold_size]]\n",
    "        X_split.append(X_fold)\n",
    "        Y_split.append(Y_fold)\n",
    "    return X_split, Y_split"
   ]
  },
  {
   "cell_type": "code",
   "execution_count": 12,
   "metadata": {
    "collapsed": true
   },
   "outputs": [],
   "source": [
    "# data split\n",
    "nn_X, nn_Y = cv_train_test_split(train_x, train_y)"
   ]
  },
  {
   "cell_type": "code",
   "execution_count": 13,
   "metadata": {
    "collapsed": true
   },
   "outputs": [],
   "source": [
    "## run the cross validation function \n",
    "def cv_nn(X, Y, input_dim, output_dim, learning_rate, max_iter, num_layer, num_nodes):\n",
    "    scores = []\n",
    "    for i in range(10):\n",
    "        x_train, x_test = np.concatenate(X[:i] + X[i+1:], axis = 0), X[i]\n",
    "        y_train, y_test = np.concatenate(Y[:i] + Y[i+1:], axis = 0), Y[i]\n",
    "        NN = Neural_Network(input_dim, output_dim, learning_rate, max_iter, num_layer, num_nodes)\n",
    "        NN.train(x_train, y_train)\n",
    "        pred = NN.predict(x_test)\n",
    "        scores.append(NN.accuracy_score(pred, y_test))\n",
    "    return sum(scores)/len(scores)"
   ]
  },
  {
   "cell_type": "code",
   "execution_count": 14,
   "metadata": {},
   "outputs": [
    {
     "name": "stdout",
     "output_type": "stream",
     "text": [
      "The accuracy score for 0.000100, 50 is 0.5875\n",
      "The accuracy score for 0.000100, 100 is 0.6897\n",
      "The accuracy score for 0.000100, 150 is 0.7147\n",
      "The accuracy score for 0.000100, 200 is 0.7087\n",
      "The accuracy score for 0.000100, 250 is 0.7486\n",
      "The accuracy score for 0.000100, 300 is 0.7861\n",
      "The accuracy score for 0.000100, 350 is 0.8280\n",
      "The accuracy score for 0.000100, 400 is 0.7921\n",
      "The accuracy score for 0.000100, 450 is 0.8155\n",
      "The accuracy score for 0.000100, 500 is 0.8296\n",
      "The accuracy score for 0.000500, 50 is 0.7682\n",
      "The accuracy score for 0.000500, 100 is 0.8454\n",
      "The accuracy score for 0.000500, 150 is 0.8690\n",
      "The accuracy score for 0.000500, 200 is 0.8864\n",
      "The accuracy score for 0.000500, 250 is 0.8913\n",
      "The accuracy score for 0.000500, 300 is 0.9016\n",
      "The accuracy score for 0.000500, 350 is 0.9109\n",
      "The accuracy score for 0.000500, 400 is 0.9204\n",
      "The accuracy score for 0.000500, 450 is 0.9155\n",
      "The accuracy score for 0.000500, 500 is 0.9201\n",
      "The accuracy score for 0.001000, 50 is 0.8372\n",
      "The accuracy score for 0.001000, 100 is 0.8976\n",
      "The accuracy score for 0.001000, 150 is 0.8984\n",
      "The accuracy score for 0.001000, 200 is 0.9166\n",
      "The accuracy score for 0.001000, 250 is 0.9196\n",
      "The accuracy score for 0.001000, 300 is 0.9196\n",
      "The accuracy score for 0.001000, 350 is 0.9177\n",
      "The accuracy score for 0.001000, 400 is 0.9255\n",
      "The accuracy score for 0.001000, 450 is 0.9228\n",
      "The accuracy score for 0.001000, 500 is 0.9250\n",
      "The accuracy score for 0.005000, 50 is 0.9139\n",
      "The accuracy score for 0.005000, 100 is 0.9255\n",
      "The accuracy score for 0.005000, 150 is 0.9342\n",
      "The accuracy score for 0.005000, 200 is 0.9307\n",
      "The accuracy score for 0.005000, 250 is 0.9332\n",
      "The accuracy score for 0.005000, 300 is 0.9321\n",
      "The accuracy score for 0.005000, 350 is 0.9329\n",
      "The accuracy score for 0.005000, 400 is 0.9370\n",
      "The accuracy score for 0.005000, 450 is 0.9380\n",
      "The accuracy score for 0.005000, 500 is 0.9359\n",
      "The accuracy score for 0.010000, 50 is 0.9272\n",
      "The accuracy score for 0.010000, 100 is 0.9321\n",
      "The accuracy score for 0.010000, 150 is 0.9293\n",
      "The accuracy score for 0.010000, 200 is 0.9332\n",
      "The accuracy score for 0.010000, 250 is 0.9345\n",
      "The accuracy score for 0.010000, 300 is 0.9321\n",
      "The accuracy score for 0.010000, 350 is 0.9361\n",
      "The accuracy score for 0.010000, 400 is 0.9370\n",
      "The accuracy score for 0.010000, 450 is 0.9378\n",
      "The accuracy score for 0.010000, 500 is 0.9356\n",
      "The accuracy score for 0.050000, 50 is 0.6927\n",
      "The accuracy score for 0.050000, 100 is 0.7688\n",
      "The accuracy score for 0.050000, 150 is 0.7628\n",
      "The accuracy score for 0.050000, 200 is 0.8269\n",
      "The accuracy score for 0.050000, 250 is 0.7679\n",
      "The accuracy score for 0.050000, 300 is 0.7304\n",
      "The accuracy score for 0.050000, 350 is 0.7465\n",
      "The accuracy score for 0.050000, 400 is 0.8948\n",
      "The accuracy score for 0.050000, 450 is 0.8269\n",
      "The accuracy score for 0.050000, 500 is 0.8364\n",
      "The accuracy score for 0.100000, 50 is 0.6128\n",
      "The accuracy score for 0.100000, 100 is 0.6410\n",
      "The accuracy score for 0.100000, 150 is 0.6190\n",
      "The accuracy score for 0.100000, 200 is 0.7204\n",
      "The accuracy score for 0.100000, 250 is 0.7258\n",
      "The accuracy score for 0.100000, 300 is 0.7440\n",
      "The accuracy score for 0.100000, 350 is 0.7054\n",
      "The accuracy score for 0.100000, 400 is 0.7185\n",
      "The accuracy score for 0.100000, 450 is 0.6726\n",
      "The accuracy score for 0.100000, 500 is 0.5989\n",
      "The accuracy score for 0.500000, 50 is 0.5386\n",
      "The accuracy score for 0.500000, 100 is 0.5035\n",
      "The accuracy score for 0.500000, 150 is 0.4845\n"
     ]
    },
    {
     "name": "stderr",
     "output_type": "stream",
     "text": [
      "C:\\Users\\User\\Anaconda3\\lib\\site-packages\\ipykernel_launcher.py:22: RuntimeWarning: overflow encountered in exp\n"
     ]
    },
    {
     "name": "stdout",
     "output_type": "stream",
     "text": [
      "The accuracy score for 0.500000, 200 is 0.5685\n",
      "The accuracy score for 0.500000, 250 is 0.5410\n",
      "The accuracy score for 0.500000, 300 is 0.4976\n",
      "The accuracy score for 0.500000, 350 is 0.5655\n",
      "The accuracy score for 0.500000, 400 is 0.6005\n",
      "The accuracy score for 0.500000, 450 is 0.6688\n",
      "The accuracy score for 0.500000, 500 is 0.6060\n",
      "The accuracy score for 1.000000, 50 is 0.4924\n",
      "The accuracy score for 1.000000, 100 is 0.5429\n",
      "The accuracy score for 1.000000, 150 is 0.6215\n",
      "The accuracy score for 1.000000, 200 is 0.5815\n",
      "The accuracy score for 1.000000, 250 is 0.6190\n",
      "The accuracy score for 1.000000, 300 is 0.5989\n",
      "The accuracy score for 1.000000, 350 is 0.5821\n",
      "The accuracy score for 1.000000, 400 is 0.5318\n",
      "The accuracy score for 1.000000, 450 is 0.5024\n",
      "The accuracy score for 1.000000, 500 is 0.5378\n"
     ]
    }
   ],
   "source": [
    "## tune the parameters: 1. max_iter   2. learning rate\n",
    "# specified parameters, to simplify we choose to have one hidden layer with 5 neurons.\n",
    "input_dim = train_x.shape[1]\n",
    "output_dim = 2\n",
    "num_layer = 1\n",
    "num_nodes = 5\n",
    "\n",
    "\n",
    "# unspecifies parameters\n",
    "learning_rates = [0.0001, 0.0005, 0.001, 0.005, 0.01, 0.05, 0.1, 0.5, 1]\n",
    "max_iters = list(range(50, 550,50))\n",
    "score_matrix = np.zeros((len(learning_rates), len(max_iters)))\n",
    "\n",
    "for l in range(len(learning_rates)):\n",
    "    for m in range(len(max_iters)):\n",
    "        learning_rate, max_iter = learning_rates[l], max_iters[m]\n",
    "        accu = cv_nn(nn_X, nn_Y, input_dim, output_dim, learning_rate, max_iter, num_layer, num_nodes)\n",
    "        print('The accuracy score for %f, %d is %.4f' %(learning_rate, max_iter, accu))\n",
    "        score_matrix[l, m] = accu"
   ]
  },
  {
   "cell_type": "code",
   "execution_count": 15,
   "metadata": {
    "collapsed": true
   },
   "outputs": [],
   "source": [
    "## heatmap\n",
    "def plotHeatMap(data, x_title='X Axis', y_title='Y Axis', title='', x_ticks=[], y_ticks=[]):\n",
    "    \n",
    "    #Plot it out\n",
    "    fig, ax = plt.subplots()\n",
    "    ax = plt.gca()\n",
    "    heatmap = ax.pcolor(data, edgecolors='k', alpha=0.8)\n",
    "    \n",
    "    fig.colorbar(heatmap, ax=ax)\n",
    "    \n",
    "    # turn off the frame\n",
    "    #ax.set_frame_on(False)\n",
    "\n",
    "    # put the major ticks at the middle of each cell\n",
    "    ax.set_xticks(np.arange(len(x_ticks)) + 0.5, minor=False)\n",
    "    ax.set_yticks(np.arange(len(y_ticks)) + 0.5, minor=False)\n",
    "    \n",
    "    ax.set_xticklabels([str(i) for i in x_ticks], minor=False)\n",
    "    ax.set_yticklabels([str(y) for y in y_ticks], minor=False)\n",
    "    \n",
    "    ax.set_xlabel(x_title)\n",
    "    ax.set_ylabel(y_title)\n",
    "    ax.set_title(title)\n",
    "    \n",
    "    plt.show()"
   ]
  },
  {
   "cell_type": "code",
   "execution_count": 16,
   "metadata": {},
   "outputs": [
    {
     "data": {
      "image/png": "[encoded data removed]",
      "text/plain": [
       "<matplotlib.figure.Figure at 0x1cab0dd8>"
      ]
     },
     "metadata": {},
     "output_type": "display_data"
    }
   ],
   "source": [
    "plotHeatMap(score_matrix, y_title='learning rate', x_title='max iter',\\\n",
    "            title='Accuracy Score', y_ticks=learning_rates, x_ticks=max_iters)"
   ]
  },
  {
   "cell_type": "code",
   "execution_count": 17,
   "metadata": {},
   "outputs": [
    {
     "data": {
      "text/plain": [
       "38"
      ]
     },
     "execution_count": 17,
     "metadata": {},
     "output_type": "execute_result"
    }
   ],
   "source": [
    "np.argmax(score_matrix)"
   ]
  },
  {
   "cell_type": "code",
   "execution_count": 18,
   "metadata": {
    "collapsed": true
   },
   "outputs": [],
   "source": [
    "def confusion_matrix(pred, y):\n",
    "    m = y.shape[0]\n",
    "    y_true = y.argmax(axis=1)\n",
    "    \n",
    "    FP = sum((y_true==0) & (pred==1))\n",
    "    FN = sum((y_true==1) & (pred==0))\n",
    "    TP = sum((y_true==1) & (pred==1))\n",
    "    TN = sum((y_true==0) & (pred==0))\n",
    "    \n",
    "    ## print performance metrics\n",
    "    accuracy = (TN + TP) / (TN + TP + FN + FP)\n",
    "    TPR = TP / (TP + FN)\n",
    "    PPV = TP / (TP + FP)\n",
    "    TNR = TN / (TN + FP)\n",
    "    F1_score = 2*PPV*TPR / (PPV+TPR)\n",
    "    metric = pd.DataFrame([accuracy, TPR, PPV, TNR, F1_score], ['ACCU', 'TPR', 'PPV', 'TNR', 'F1'], ['score'])\n",
    "    \n",
    "    ### print confusion matrix\n",
    "    conf_matrix = np.array([[TP, FN], [FP, TN]])\n",
    "    conf = pd.DataFrame(conf_matrix, ['spam', 'not spam'], ['spam', 'not spam'])\n",
    "    return metric, conf"
   ]
  },
  {
   "cell_type": "code",
   "execution_count": 19,
   "metadata": {},
   "outputs": [
    {
     "name": "stdout",
     "output_type": "stream",
     "text": [
      "Loss after iteration 0: 1.673941\n",
      "Loss after iteration 50: 0.230135\n",
      "Loss after iteration 100: 0.188224\n",
      "Loss after iteration 150: 0.170416\n",
      "Loss after iteration 200: 0.161796\n",
      "Loss after iteration 250: 0.156427\n",
      "Loss after iteration 300: 0.149862\n",
      "Loss after iteration 350: 0.146285\n",
      "Loss after iteration 400: 0.143431\n",
      "         score\n",
      "ACCU  0.931596\n",
      "TPR   0.945205\n",
      "PPV   0.946827\n",
      "TNR   0.908012\n",
      "F1    0.946015\n",
      "          spam  not spam\n",
      "spam       552        32\n",
      "not spam    31       306\n"
     ]
    }
   ],
   "source": [
    "## find the optimum learning_rate and max_iter, train the training data and test the test_data\n",
    "learning_rate, max_iter = 0.005, 450\n",
    "NN = Neural_Network(input_dim, output_dim, learning_rate, max_iter, num_layer, num_nodes)\n",
    "NN.train(train_x, train_y, print_loss=True)\n",
    "pred = NN.predict(test_x)\n",
    "# metrics \n",
    "metric, confusion = confusion_matrix(pred, test_y)\n",
    "print(metric)\n",
    "print(confusion)"
   ]
  },
  {
   "cell_type": "markdown",
   "metadata": {},
   "source": [
    "# ANNs with Reduced Dimension"
   ]
  },
  {
   "cell_type": "code",
   "execution_count": 20,
   "metadata": {},
   "outputs": [
    {
     "name": "stdout",
     "output_type": "stream",
     "text": [
      "[0.11564794 0.17297118 0.2081142  0.23641524 0.26354169 0.28920029\n",
      " 0.314007   0.33812839 0.36085269 0.38325521 0.4046048  0.42443115\n",
      " 0.4439361  0.46314837 0.48221912 0.50087647 0.51927371 0.53722774\n",
      " 0.55499377 0.57258701 0.59005918 0.60722171 0.62414334 0.64065816\n",
      " 0.65708953 0.67330598 0.68936487 0.70523575 0.72055892 0.73575189\n",
      " 0.75042723 0.7649313  0.77892553 0.79263965 0.80626455 0.81951942\n",
      " 0.83239801 0.84508326 0.85744449 0.86954722 0.88138239 0.8930665\n",
      " 0.90392819 0.91460277 0.92481097 0.93493523 0.94413616 0.95271015\n",
      " 0.96061065 0.96778785 0.97437741 0.98079342 0.98666807 0.99202564\n",
      " 0.99659442 0.99993237 1.        ]\n"
     ]
    }
   ],
   "source": [
    "## run pca analysis, get the principle components, the first 43 components (90% of variance)\n",
    "u, s, vh = np.linalg.svd(df_x_std)\n",
    "\n",
    "s2 = np.cumsum(s**2) / np.sum(s**2)\n",
    "print(s2)"
   ]
  },
  {
   "cell_type": "code",
   "execution_count": 21,
   "metadata": {
    "collapsed": true
   },
   "outputs": [],
   "source": [
    "pc_x = df_x_std @ vh.T[:, :43]"
   ]
  },
  {
   "cell_type": "code",
   "execution_count": 22,
   "metadata": {
    "collapsed": true
   },
   "outputs": [],
   "source": [
    "## data\n",
    "X_PC = np.array(pc_x)\n",
    "Y_PC = np.array(df_y)\n",
    "\n",
    "pca_train_x, pca_test_x, pca_train_y, pca_test_y = train_test_split(X_PC, Y_PC, test_size=0.2)"
   ]
  },
  {
   "cell_type": "code",
   "execution_count": 23,
   "metadata": {
    "collapsed": true
   },
   "outputs": [],
   "source": [
    "# data split\n",
    "nn_pca_X, nn_pca_Y = cv_train_test_split(pca_train_x, pca_train_y)"
   ]
  },
  {
   "cell_type": "code",
   "execution_count": 24,
   "metadata": {},
   "outputs": [
    {
     "name": "stdout",
     "output_type": "stream",
     "text": [
      "The accuracy score for 0.000100, 50 is 0.6087\n",
      "The accuracy score for 0.000100, 100 is 0.6889\n",
      "The accuracy score for 0.000100, 150 is 0.7168\n",
      "The accuracy score for 0.000100, 200 is 0.7791\n",
      "The accuracy score for 0.000100, 250 is 0.7908\n",
      "The accuracy score for 0.000100, 300 is 0.7957\n",
      "The accuracy score for 0.000100, 350 is 0.8022\n",
      "The accuracy score for 0.000100, 400 is 0.8274\n",
      "The accuracy score for 0.000100, 450 is 0.8405\n",
      "The accuracy score for 0.000100, 500 is 0.8429\n",
      "The accuracy score for 0.000500, 50 is 0.7889\n",
      "The accuracy score for 0.000500, 100 is 0.8399\n",
      "The accuracy score for 0.000500, 150 is 0.8924\n",
      "The accuracy score for 0.000500, 200 is 0.8788\n",
      "The accuracy score for 0.000500, 250 is 0.8995\n",
      "The accuracy score for 0.000500, 300 is 0.9092\n",
      "The accuracy score for 0.000500, 350 is 0.9106\n",
      "The accuracy score for 0.000500, 400 is 0.9171\n",
      "The accuracy score for 0.000500, 450 is 0.9185\n",
      "The accuracy score for 0.000500, 500 is 0.9231\n",
      "The accuracy score for 0.001000, 50 is 0.8318\n",
      "The accuracy score for 0.001000, 100 is 0.8712\n",
      "The accuracy score for 0.001000, 150 is 0.9071\n",
      "The accuracy score for 0.001000, 200 is 0.9152\n",
      "The accuracy score for 0.001000, 250 is 0.9158\n",
      "The accuracy score for 0.001000, 300 is 0.9220\n",
      "The accuracy score for 0.001000, 350 is 0.9228\n",
      "The accuracy score for 0.001000, 400 is 0.9245\n",
      "The accuracy score for 0.001000, 450 is 0.9272\n",
      "The accuracy score for 0.001000, 500 is 0.9304\n",
      "The accuracy score for 0.005000, 50 is 0.9204\n",
      "The accuracy score for 0.005000, 100 is 0.9283\n",
      "The accuracy score for 0.005000, 150 is 0.9318\n",
      "The accuracy score for 0.005000, 200 is 0.9285\n",
      "The accuracy score for 0.005000, 250 is 0.9326\n",
      "The accuracy score for 0.005000, 300 is 0.9318\n",
      "The accuracy score for 0.005000, 350 is 0.9356\n",
      "The accuracy score for 0.005000, 400 is 0.9329\n",
      "The accuracy score for 0.005000, 450 is 0.9342\n",
      "The accuracy score for 0.005000, 500 is 0.9348\n",
      "The accuracy score for 0.010000, 50 is 0.9269\n",
      "The accuracy score for 0.010000, 100 is 0.9307\n",
      "The accuracy score for 0.010000, 150 is 0.9321\n",
      "The accuracy score for 0.010000, 200 is 0.9304\n",
      "The accuracy score for 0.010000, 250 is 0.9340\n",
      "The accuracy score for 0.010000, 300 is 0.9364\n",
      "The accuracy score for 0.010000, 350 is 0.9332\n",
      "The accuracy score for 0.010000, 400 is 0.9364\n",
      "The accuracy score for 0.010000, 450 is 0.9329\n",
      "The accuracy score for 0.010000, 500 is 0.9353\n",
      "The accuracy score for 0.050000, 50 is 0.8024\n",
      "The accuracy score for 0.050000, 100 is 0.7079\n",
      "The accuracy score for 0.050000, 150 is 0.7967\n",
      "The accuracy score for 0.050000, 200 is 0.7370\n",
      "The accuracy score for 0.050000, 250 is 0.7557\n",
      "The accuracy score for 0.050000, 300 is 0.8432\n",
      "The accuracy score for 0.050000, 350 is 0.8332\n",
      "The accuracy score for 0.050000, 400 is 0.8948\n",
      "The accuracy score for 0.050000, 450 is 0.7734\n",
      "The accuracy score for 0.050000, 500 is 0.7796\n",
      "The accuracy score for 0.100000, 50 is 0.7307\n",
      "The accuracy score for 0.100000, 100 is 0.6535\n",
      "The accuracy score for 0.100000, 150 is 0.6541\n",
      "The accuracy score for 0.100000, 200 is 0.6701\n",
      "The accuracy score for 0.100000, 250 is 0.6410\n",
      "The accuracy score for 0.100000, 300 is 0.7038\n",
      "The accuracy score for 0.100000, 350 is 0.5818\n",
      "The accuracy score for 0.100000, 400 is 0.6432\n",
      "The accuracy score for 0.100000, 450 is 0.6516\n",
      "The accuracy score for 0.100000, 500 is 0.7152\n"
     ]
    },
    {
     "name": "stderr",
     "output_type": "stream",
     "text": [
      "C:\\Users\\User\\Anaconda3\\lib\\site-packages\\ipykernel_launcher.py:22: RuntimeWarning: overflow encountered in exp\n"
     ]
    },
    {
     "name": "stdout",
     "output_type": "stream",
     "text": [
      "The accuracy score for 0.500000, 50 is 0.5905\n",
      "The accuracy score for 0.500000, 100 is 0.5856\n",
      "The accuracy score for 0.500000, 150 is 0.6057\n",
      "The accuracy score for 0.500000, 200 is 0.5905\n",
      "The accuracy score for 0.500000, 250 is 0.5410\n",
      "The accuracy score for 0.500000, 300 is 0.5530\n",
      "The accuracy score for 0.500000, 350 is 0.5861\n",
      "The accuracy score for 0.500000, 400 is 0.6788\n",
      "The accuracy score for 0.500000, 450 is 0.5799\n",
      "The accuracy score for 0.500000, 500 is 0.5207\n",
      "The accuracy score for 1.000000, 50 is 0.4935\n",
      "The accuracy score for 1.000000, 100 is 0.6114\n",
      "The accuracy score for 1.000000, 150 is 0.4905\n",
      "The accuracy score for 1.000000, 200 is 0.5111\n",
      "The accuracy score for 1.000000, 250 is 0.6228\n",
      "The accuracy score for 1.000000, 300 is 0.5356\n",
      "The accuracy score for 1.000000, 350 is 0.5992\n",
      "The accuracy score for 1.000000, 400 is 0.5783\n",
      "The accuracy score for 1.000000, 450 is 0.5851\n",
      "The accuracy score for 1.000000, 500 is 0.5802\n"
     ]
    }
   ],
   "source": [
    "## tune the parameters: 1. max_iter   2. learning rate\n",
    "# specified parameters, to simplify we choose to have one hidden layer with 5 neurons.\n",
    "pca_input_dim = pca_train_x.shape[1]\n",
    "output_dim = 2\n",
    "num_layer = 1\n",
    "num_nodes = 5\n",
    "\n",
    "\n",
    "# unspecifies parameters\n",
    "learning_rates = [0.0001, 0.0005, 0.001, 0.005, 0.01, 0.05, 0.1, 0.5, 1]\n",
    "max_iters = list(range(50, 550,50))\n",
    "pca_score_matrix = np.zeros((len(learning_rates), len(max_iters)))\n",
    "\n",
    "for l in range(len(learning_rates)):\n",
    "    for m in range(len(max_iters)):\n",
    "        learning_rate, max_iter = learning_rates[l], max_iters[m]\n",
    "        accu = cv_nn(nn_pca_X, nn_pca_Y, pca_input_dim, output_dim, learning_rate, max_iter, num_layer, num_nodes)\n",
    "        print('The accuracy score for %f, %d is %.4f' %(learning_rate, max_iter, accu))\n",
    "        pca_score_matrix[l, m] = accu"
   ]
  },
  {
   "cell_type": "code",
   "execution_count": 25,
   "metadata": {},
   "outputs": [
    {
     "data": {
      "image/png": "[encoded data removed]",
      "text/plain": [
       "<matplotlib.figure.Figure at 0x62c2b00>"
      ]
     },
     "metadata": {},
     "output_type": "display_data"
    }
   ],
   "source": [
    "plotHeatMap(pca_score_matrix, y_title='learning rate', x_title='max iter',\\\n",
    "            title='Accuracy Score', y_ticks=learning_rates, x_ticks=max_iters)"
   ]
  },
  {
   "cell_type": "code",
   "execution_count": 26,
   "metadata": {},
   "outputs": [
    {
     "data": {
      "text/plain": [
       "45"
      ]
     },
     "execution_count": 26,
     "metadata": {},
     "output_type": "execute_result"
    }
   ],
   "source": [
    "np.argmax(pca_score_matrix)"
   ]
  },
  {
   "cell_type": "code",
   "execution_count": 29,
   "metadata": {},
   "outputs": [
    {
     "name": "stdout",
     "output_type": "stream",
     "text": [
      "Loss after iteration 0: 1.006612\n",
      "Loss after iteration 50: 0.200568\n",
      "Loss after iteration 100: 0.175663\n",
      "Loss after iteration 150: 0.169453\n",
      "Loss after iteration 200: 0.167049\n",
      "Loss after iteration 250: 0.165925\n",
      "         score\n",
      "ACCU  0.920738\n",
      "TPR   0.950092\n",
      "PPV   0.917857\n",
      "TNR   0.878947\n",
      "F1    0.933697\n",
      "          spam  not spam\n",
      "spam       514        27\n",
      "not spam    46       334\n"
     ]
    }
   ],
   "source": [
    "## find the optimum learning_rate and max_iter, train the training data and test the test_data\n",
    "learning_rate, max_iter = 0.01, 300\n",
    "NN = Neural_Network(pca_input_dim, output_dim, learning_rate, max_iter, num_layer, num_nodes)\n",
    "NN.train(pca_train_x, pca_train_y, print_loss=True)\n",
    "pred = NN.predict(pca_test_x)\n",
    "# metrics \n",
    "metric, confusion = confusion_matrix(pred, pca_test_y)\n",
    "print(metric)\n",
    "print(confusion)"
   ]
  },
  {
   "cell_type": "code",
   "execution_count": null,
   "metadata": {
    "collapsed": true
   },
   "outputs": [],
   "source": []
  },
  {
   "cell_type": "code",
   "execution_count": null,
   "metadata": {
    "collapsed": true
   },
   "outputs": [],
   "source": []
  }
 ],
 "metadata": {
  "kernelspec": {
   "display_name": "Python 3",
   "language": "python",
   "name": "python3"
  },
  "language_info": {
   "codemirror_mode": {
    "name": "ipython",
    "version": 3
   },
   "file_extension": ".py",
   "mimetype": "text/x-python",
   "name": "python",
   "nbconvert_exporter": "python",
   "pygments_lexer": "ipython3",
   "version": "3.6.1"
  }
 },
 "nbformat": 4,
 "nbformat_minor": 2
}
