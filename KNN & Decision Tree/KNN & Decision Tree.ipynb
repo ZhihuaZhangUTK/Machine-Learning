{
 "cells": [
  {
   "cell_type": "code",
   "execution_count": 1,
   "metadata": {
    "collapsed": true
   },
   "outputs": [],
   "source": [
    "import numpy as np\n",
    "import pandas as pd\n",
    "import matplotlib.pyplot as plt\n",
    "import math"
   ]
  },
  {
   "cell_type": "markdown",
   "metadata": {},
   "source": [
    "# Data Preprocessing "
   ]
  },
  {
   "cell_type": "code",
   "execution_count": 2,
   "metadata": {
    "collapsed": true
   },
   "outputs": [],
   "source": [
    "# read data\n",
    "data = pd.read_csv('breast-cancer-wisconsin.data', header=None, na_values=['?'])\n",
    "data.columns= ['ID', 'Clump Thickness', 'Uniformity of Cell Size','Uniformity of Cell Shape', \\\n",
    "                    'Marginal Adhesion', 'Single Epithelial Cell Size', 'Bare Nuclei', 'Bland Chromatin', 'Normal Nucleoli', \\\n",
    "                    'Mitoses', 'Class']"
   ]
  },
  {
   "cell_type": "code",
   "execution_count": 3,
   "metadata": {},
   "outputs": [
    {
     "data": {
      "text/html": [
       "<div>\n",
       "<style>\n",
       "    .dataframe thead tr:only-child th {\n",
       "        text-align: right;\n",
       "    }\n",
       "\n",
       "    .dataframe thead th {\n",
       "        text-align: left;\n",
       "    }\n",
       "\n",
       "    .dataframe tbody tr th {\n",
       "        vertical-align: top;\n",
       "    }\n",
       "</style>\n",
       "<table border=\"1\" class=\"dataframe\">\n",
       "  <thead>\n",
       "    <tr style=\"text-align: right;\">\n",
       "      <th></th>\n",
       "      <th>ID</th>\n",
       "      <th>Clump Thickness</th>\n",
       "      <th>Uniformity of Cell Size</th>\n",
       "      <th>Uniformity of Cell Shape</th>\n",
       "      <th>Marginal Adhesion</th>\n",
       "      <th>Single Epithelial Cell Size</th>\n",
       "      <th>Bare Nuclei</th>\n",
       "      <th>Bland Chromatin</th>\n",
       "      <th>Normal Nucleoli</th>\n",
       "      <th>Mitoses</th>\n",
       "      <th>Class</th>\n",
       "    </tr>\n",
       "  </thead>\n",
       "  <tbody>\n",
       "    <tr>\n",
       "      <th>0</th>\n",
       "      <td>1000025</td>\n",
       "      <td>5</td>\n",
       "      <td>1</td>\n",
       "      <td>1</td>\n",
       "      <td>1</td>\n",
       "      <td>2</td>\n",
       "      <td>1.0</td>\n",
       "      <td>3</td>\n",
       "      <td>1</td>\n",
       "      <td>1</td>\n",
       "      <td>2</td>\n",
       "    </tr>\n",
       "    <tr>\n",
       "      <th>1</th>\n",
       "      <td>1002945</td>\n",
       "      <td>5</td>\n",
       "      <td>4</td>\n",
       "      <td>4</td>\n",
       "      <td>5</td>\n",
       "      <td>7</td>\n",
       "      <td>10.0</td>\n",
       "      <td>3</td>\n",
       "      <td>2</td>\n",
       "      <td>1</td>\n",
       "      <td>2</td>\n",
       "    </tr>\n",
       "    <tr>\n",
       "      <th>2</th>\n",
       "      <td>1015425</td>\n",
       "      <td>3</td>\n",
       "      <td>1</td>\n",
       "      <td>1</td>\n",
       "      <td>1</td>\n",
       "      <td>2</td>\n",
       "      <td>2.0</td>\n",
       "      <td>3</td>\n",
       "      <td>1</td>\n",
       "      <td>1</td>\n",
       "      <td>2</td>\n",
       "    </tr>\n",
       "    <tr>\n",
       "      <th>3</th>\n",
       "      <td>1016277</td>\n",
       "      <td>6</td>\n",
       "      <td>8</td>\n",
       "      <td>8</td>\n",
       "      <td>1</td>\n",
       "      <td>3</td>\n",
       "      <td>4.0</td>\n",
       "      <td>3</td>\n",
       "      <td>7</td>\n",
       "      <td>1</td>\n",
       "      <td>2</td>\n",
       "    </tr>\n",
       "    <tr>\n",
       "      <th>4</th>\n",
       "      <td>1017023</td>\n",
       "      <td>4</td>\n",
       "      <td>1</td>\n",
       "      <td>1</td>\n",
       "      <td>3</td>\n",
       "      <td>2</td>\n",
       "      <td>1.0</td>\n",
       "      <td>3</td>\n",
       "      <td>1</td>\n",
       "      <td>1</td>\n",
       "      <td>2</td>\n",
       "    </tr>\n",
       "  </tbody>\n",
       "</table>\n",
       "</div>"
      ],
      "text/plain": [
       "        ID  Clump Thickness  Uniformity of Cell Size  \\\n",
       "0  1000025                5                        1   \n",
       "1  1002945                5                        4   \n",
       "2  1015425                3                        1   \n",
       "3  1016277                6                        8   \n",
       "4  1017023                4                        1   \n",
       "\n",
       "   Uniformity of Cell Shape  Marginal Adhesion  Single Epithelial Cell Size  \\\n",
       "0                         1                  1                            2   \n",
       "1                         4                  5                            7   \n",
       "2                         1                  1                            2   \n",
       "3                         8                  1                            3   \n",
       "4                         1                  3                            2   \n",
       "\n",
       "   Bare Nuclei  Bland Chromatin  Normal Nucleoli  Mitoses  Class  \n",
       "0          1.0                3                1        1      2  \n",
       "1         10.0                3                2        1      2  \n",
       "2          2.0                3                1        1      2  \n",
       "3          4.0                3                7        1      2  \n",
       "4          1.0                3                1        1      2  "
      ]
     },
     "execution_count": 3,
     "metadata": {},
     "output_type": "execute_result"
    }
   ],
   "source": [
    "data.head()"
   ]
  },
  {
   "cell_type": "code",
   "execution_count": 4,
   "metadata": {},
   "outputs": [
    {
     "data": {
      "text/plain": [
       "(699, 11)"
      ]
     },
     "execution_count": 4,
     "metadata": {},
     "output_type": "execute_result"
    }
   ],
   "source": [
    "data.shape"
   ]
  },
  {
   "cell_type": "code",
   "execution_count": 5,
   "metadata": {},
   "outputs": [
    {
     "data": {
      "text/plain": [
       "ID                              0\n",
       "Clump Thickness                 0\n",
       "Uniformity of Cell Size         0\n",
       "Uniformity of Cell Shape        0\n",
       "Marginal Adhesion               0\n",
       "Single Epithelial Cell Size     0\n",
       "Bare Nuclei                    16\n",
       "Bland Chromatin                 0\n",
       "Normal Nucleoli                 0\n",
       "Mitoses                         0\n",
       "Class                           0\n",
       "dtype: int64"
      ]
     },
     "execution_count": 5,
     "metadata": {},
     "output_type": "execute_result"
    }
   ],
   "source": [
    "## check missing values, we find there are 16 missing vlaues in 'Bare Nuclei'\n",
    "data.isnull().sum()"
   ]
  },
  {
   "cell_type": "code",
   "execution_count": 6,
   "metadata": {},
   "outputs": [
    {
     "data": {
      "text/plain": [
       "ID                             0\n",
       "Clump Thickness                0\n",
       "Uniformity of Cell Size        0\n",
       "Uniformity of Cell Shape       0\n",
       "Marginal Adhesion              0\n",
       "Single Epithelial Cell Size    0\n",
       "Bare Nuclei                    0\n",
       "Bland Chromatin                0\n",
       "Normal Nucleoli                0\n",
       "Mitoses                        0\n",
       "Class                          0\n",
       "dtype: int64"
      ]
     },
     "execution_count": 6,
     "metadata": {},
     "output_type": "execute_result"
    }
   ],
   "source": [
    "## impute missing value, since 'Bare Nuclei' is ordinal data, we use the mode value to fill missing vlaues\n",
    "data['Bare Nuclei'].fillna(data['Bare Nuclei'].mode()[0], inplace=True)\n",
    "data.isnull().sum()"
   ]
  },
  {
   "cell_type": "code",
   "execution_count": 7,
   "metadata": {},
   "outputs": [
    {
     "name": "stdout",
     "output_type": "stream",
     "text": [
      "ID                               int64\n",
      "Clump Thickness                  int64\n",
      "Uniformity of Cell Size          int64\n",
      "Uniformity of Cell Shape         int64\n",
      "Marginal Adhesion                int64\n",
      "Single Epithelial Cell Size      int64\n",
      "Bare Nuclei                    float64\n",
      "Bland Chromatin                  int64\n",
      "Normal Nucleoli                  int64\n",
      "Mitoses                          int64\n",
      "Class                            int64\n",
      "dtype: object\n"
     ]
    }
   ],
   "source": [
    "# check the type of data\n",
    "print(data.dtypes)"
   ]
  },
  {
   "cell_type": "code",
   "execution_count": 8,
   "metadata": {},
   "outputs": [
    {
     "data": {
      "text/html": [
       "<div>\n",
       "<style>\n",
       "    .dataframe thead tr:only-child th {\n",
       "        text-align: right;\n",
       "    }\n",
       "\n",
       "    .dataframe thead th {\n",
       "        text-align: left;\n",
       "    }\n",
       "\n",
       "    .dataframe tbody tr th {\n",
       "        vertical-align: top;\n",
       "    }\n",
       "</style>\n",
       "<table border=\"1\" class=\"dataframe\">\n",
       "  <thead>\n",
       "    <tr style=\"text-align: right;\">\n",
       "      <th></th>\n",
       "      <th>Clump Thickness</th>\n",
       "      <th>Uniformity of Cell Size</th>\n",
       "      <th>Uniformity of Cell Shape</th>\n",
       "      <th>Marginal Adhesion</th>\n",
       "      <th>Single Epithelial Cell Size</th>\n",
       "      <th>Bare Nuclei</th>\n",
       "      <th>Bland Chromatin</th>\n",
       "      <th>Normal Nucleoli</th>\n",
       "      <th>Mitoses</th>\n",
       "    </tr>\n",
       "  </thead>\n",
       "  <tbody>\n",
       "    <tr>\n",
       "      <th>0</th>\n",
       "      <td>5</td>\n",
       "      <td>1</td>\n",
       "      <td>1</td>\n",
       "      <td>1</td>\n",
       "      <td>2</td>\n",
       "      <td>1.0</td>\n",
       "      <td>3</td>\n",
       "      <td>1</td>\n",
       "      <td>1</td>\n",
       "    </tr>\n",
       "    <tr>\n",
       "      <th>1</th>\n",
       "      <td>5</td>\n",
       "      <td>4</td>\n",
       "      <td>4</td>\n",
       "      <td>5</td>\n",
       "      <td>7</td>\n",
       "      <td>10.0</td>\n",
       "      <td>3</td>\n",
       "      <td>2</td>\n",
       "      <td>1</td>\n",
       "    </tr>\n",
       "    <tr>\n",
       "      <th>2</th>\n",
       "      <td>3</td>\n",
       "      <td>1</td>\n",
       "      <td>1</td>\n",
       "      <td>1</td>\n",
       "      <td>2</td>\n",
       "      <td>2.0</td>\n",
       "      <td>3</td>\n",
       "      <td>1</td>\n",
       "      <td>1</td>\n",
       "    </tr>\n",
       "    <tr>\n",
       "      <th>3</th>\n",
       "      <td>6</td>\n",
       "      <td>8</td>\n",
       "      <td>8</td>\n",
       "      <td>1</td>\n",
       "      <td>3</td>\n",
       "      <td>4.0</td>\n",
       "      <td>3</td>\n",
       "      <td>7</td>\n",
       "      <td>1</td>\n",
       "    </tr>\n",
       "    <tr>\n",
       "      <th>4</th>\n",
       "      <td>4</td>\n",
       "      <td>1</td>\n",
       "      <td>1</td>\n",
       "      <td>3</td>\n",
       "      <td>2</td>\n",
       "      <td>1.0</td>\n",
       "      <td>3</td>\n",
       "      <td>1</td>\n",
       "      <td>1</td>\n",
       "    </tr>\n",
       "  </tbody>\n",
       "</table>\n",
       "</div>"
      ],
      "text/plain": [
       "   Clump Thickness  Uniformity of Cell Size  Uniformity of Cell Shape  \\\n",
       "0                5                        1                         1   \n",
       "1                5                        4                         4   \n",
       "2                3                        1                         1   \n",
       "3                6                        8                         8   \n",
       "4                4                        1                         1   \n",
       "\n",
       "   Marginal Adhesion  Single Epithelial Cell Size  Bare Nuclei  \\\n",
       "0                  1                            2          1.0   \n",
       "1                  5                            7         10.0   \n",
       "2                  1                            2          2.0   \n",
       "3                  1                            3          4.0   \n",
       "4                  3                            2          1.0   \n",
       "\n",
       "   Bland Chromatin  Normal Nucleoli  Mitoses  \n",
       "0                3                1        1  \n",
       "1                3                2        1  \n",
       "2                3                1        1  \n",
       "3                3                7        1  \n",
       "4                3                1        1  "
      ]
     },
     "execution_count": 8,
     "metadata": {},
     "output_type": "execute_result"
    }
   ],
   "source": [
    "df = data.iloc[:, 1:10]\n",
    "df.head()"
   ]
  },
  {
   "cell_type": "code",
   "execution_count": 9,
   "metadata": {
    "collapsed": true
   },
   "outputs": [],
   "source": [
    "colnames = df.columns.values"
   ]
  },
  {
   "cell_type": "code",
   "execution_count": 10,
   "metadata": {},
   "outputs": [
    {
     "data": {
      "text/plain": [
       "array([2, 2, 2, 2, 2, 4, 2, 2, 2, 2, 2, 2, 4, 2, 4, 4, 2, 2, 4, 2, 4, 4,\n",
       "       2, 4, 2, 4, 2, 2, 2, 2, 2, 2, 4, 2, 2, 2, 4, 2, 4, 4, 2, 4, 4, 4,\n",
       "       4, 2, 4, 2, 2, 4, 4, 4, 4, 4, 4, 4, 4, 4, 4, 4, 4, 2, 4, 4, 2, 4,\n",
       "       2, 4, 4, 2, 2, 4, 2, 4, 4, 2, 2, 2, 2, 2, 2, 2, 2, 2, 4, 4, 4, 4,\n",
       "       2, 2, 2, 2, 2, 2, 2, 2, 2, 2, 4, 4, 4, 4, 2, 4, 4, 4, 4, 4, 2, 4,\n",
       "       2, 4, 4, 4, 2, 2, 2, 4, 2, 2, 2, 2, 4, 4, 4, 2, 4, 2, 4, 2, 2, 2,\n",
       "       4, 2, 2, 2, 2, 2, 2, 2, 2, 2, 4, 2, 2, 2, 4, 2, 2, 4, 2, 4, 4, 2,\n",
       "       2, 4, 2, 2, 2, 4, 4, 2, 2, 2, 2, 2, 4, 4, 2, 2, 2, 2, 2, 4, 4, 4,\n",
       "       2, 4, 2, 4, 2, 2, 2, 4, 4, 2, 4, 4, 4, 2, 4, 4, 2, 2, 2, 2, 2, 2,\n",
       "       2, 2, 4, 4, 2, 2, 2, 4, 4, 2, 2, 2, 4, 4, 2, 4, 4, 4, 2, 2, 4, 2,\n",
       "       2, 4, 4, 4, 4, 2, 4, 4, 2, 4, 4, 4, 2, 4, 2, 2, 4, 4, 4, 4, 2, 2,\n",
       "       2, 2, 2, 2, 4, 4, 2, 2, 2, 4, 2, 4, 4, 4, 2, 2, 2, 2, 4, 4, 4, 4,\n",
       "       4, 2, 4, 4, 4, 2, 4, 2, 4, 4, 2, 2, 2, 2, 2, 4, 2, 2, 4, 4, 4, 4,\n",
       "       4, 2, 4, 4, 2, 2, 4, 4, 2, 4, 2, 2, 2, 4, 4, 2, 4, 2, 4, 4, 2, 2,\n",
       "       4, 2, 2, 2, 4, 2, 2, 2, 4, 4, 2, 2, 4, 2, 2, 4, 2, 2, 4, 2, 4, 4,\n",
       "       4, 2, 2, 4, 4, 2, 4, 2, 2, 4, 4, 2, 2, 2, 4, 2, 2, 2, 4, 4, 2, 2,\n",
       "       2, 4, 2, 2, 4, 4, 4, 4, 4, 4, 2, 2, 2, 2, 4, 4, 2, 2, 2, 2, 2, 2,\n",
       "       2, 2, 2, 2, 2, 2, 2, 4, 2, 2, 2, 2, 4, 2, 2, 2, 2, 4, 2, 2, 2, 2,\n",
       "       2, 2, 2, 2, 4, 2, 2, 2, 2, 2, 2, 2, 2, 2, 2, 2, 4, 2, 4, 2, 4, 2,\n",
       "       2, 2, 2, 4, 2, 2, 2, 4, 2, 4, 2, 2, 2, 2, 2, 2, 2, 4, 4, 2, 2, 2,\n",
       "       4, 2, 2, 2, 2, 2, 2, 2, 2, 4, 2, 2, 2, 4, 2, 4, 4, 4, 2, 2, 2, 2,\n",
       "       2, 2, 2, 4, 4, 4, 2, 2, 2, 2, 2, 2, 2, 2, 2, 2, 2, 4, 2, 2, 4, 4,\n",
       "       2, 2, 2, 4, 4, 4, 2, 4, 2, 4, 2, 2, 2, 2, 2, 2, 2, 2, 2, 2, 2, 2,\n",
       "       4, 2, 2, 2, 2, 2, 2, 2, 4, 4, 2, 2, 2, 4, 2, 2, 4, 4, 2, 2, 2, 2,\n",
       "       2, 2, 4, 2, 2, 2, 2, 2, 2, 2, 2, 2, 2, 2, 2, 2, 2, 2, 4, 2, 2, 4,\n",
       "       2, 2, 2, 2, 2, 2, 2, 2, 2, 2, 2, 2, 2, 2, 2, 4, 2, 2, 4, 4, 4, 4,\n",
       "       2, 2, 4, 2, 2, 2, 2, 2, 2, 4, 4, 2, 2, 2, 4, 2, 4, 2, 4, 4, 4, 2,\n",
       "       4, 2, 2, 2, 2, 2, 2, 2, 2, 4, 4, 4, 2, 2, 4, 2, 4, 4, 4, 2, 2, 2,\n",
       "       2, 2, 2, 2, 2, 2, 2, 2, 2, 2, 4, 2, 2, 2, 2, 2, 2, 4, 2, 2, 4, 2,\n",
       "       2, 2, 2, 2, 2, 2, 2, 2, 2, 2, 4, 2, 2, 2, 2, 2, 2, 2, 2, 2, 4, 2,\n",
       "       2, 2, 2, 2, 2, 2, 2, 2, 4, 4, 4, 2, 2, 2, 2, 2, 2, 2, 2, 2, 4, 4,\n",
       "       2, 2, 2, 2, 2, 2, 2, 2, 2, 4, 2, 2, 2, 2, 4, 4, 4], dtype=int64)"
      ]
     },
     "execution_count": 10,
     "metadata": {},
     "output_type": "execute_result"
    }
   ],
   "source": [
    "## get the data for KNN, standardize the data \n",
    "df_x = np.array(df)\n",
    "df_x= (df_x - df_x.mean()) / df_x.std()\n",
    "df_y = np.array(data['Class'])\n",
    "df_y"
   ]
  },
  {
   "cell_type": "code",
   "execution_count": 11,
   "metadata": {},
   "outputs": [
    {
     "data": {
      "text/plain": [
       "array([[ 5.,  1.,  1., ...,  3.,  1.,  1.],\n",
       "       [ 5.,  4.,  4., ...,  3.,  2.,  1.],\n",
       "       [ 3.,  1.,  1., ...,  3.,  1.,  1.],\n",
       "       ...,\n",
       "       [ 5., 10., 10., ...,  8., 10.,  2.],\n",
       "       [ 4.,  8.,  6., ..., 10.,  6.,  1.],\n",
       "       [ 4.,  8.,  8., ..., 10.,  4.,  1.]])"
      ]
     },
     "execution_count": 11,
     "metadata": {},
     "output_type": "execute_result"
    }
   ],
   "source": [
    "## get the data for Decision Tree algorithm\n",
    "x = np.array(df)\n",
    "x"
   ]
  },
  {
   "cell_type": "markdown",
   "metadata": {},
   "source": [
    "# Implementation "
   ]
  },
  {
   "cell_type": "markdown",
   "metadata": {},
   "source": [
    "## KNN algorithm"
   ]
  },
  {
   "cell_type": "code",
   "execution_count": 12,
   "metadata": {
    "collapsed": true
   },
   "outputs": [],
   "source": [
    "## distance function\n",
    "def dist(p1, p2):\n",
    "    return np.sum(np.square(p1-p2))**0.5"
   ]
  },
  {
   "cell_type": "code",
   "execution_count": 13,
   "metadata": {
    "collapsed": true
   },
   "outputs": [],
   "source": [
    "class KNN:\n",
    "    def __init__(self, k=5):\n",
    "        self.k = k\n",
    "        self.X_train = None\n",
    "        self.y_train = None\n",
    "        \n",
    "    def fit(self, training_data, training_labels):\n",
    "        self.X_train = training_data\n",
    "        self.y_train = training_labels\n",
    "        \n",
    "    def neighbors(self, obs):\n",
    "        distances = []\n",
    "        ### get the neighbors of point\n",
    "        for i, p in enumerate(self.X_train):\n",
    "            distances.append((i, dist(obs, p)))\n",
    "        distances_sort = sorted(distances, key = lambda x:x[1])\n",
    "        index = [d[0] for d in distances_sort[:self.k]]\n",
    "        return self.y_train[index]\n",
    "    \n",
    "    '''\n",
    "    def labels(self, neighbors):\n",
    "        ### find the most voted label\n",
    "        label, count = None, 0\n",
    "        for l in set(neighs):\n",
    "            if neighs.count(l) > count:\n",
    "                count = neighs.count(l)\n",
    "                label = l\n",
    "        return label\n",
    "            \n",
    "    '''    \n",
    "\n",
    "    def predict(self, test_data):\n",
    "        predictions = []\n",
    "        for obs in test_data:\n",
    "            neighs = self.neighbors(obs)\n",
    "        \n",
    "            ## find the most voted label \n",
    "            label, count = None, 0\n",
    "            for l in set(neighs):\n",
    "                if list(neighs).count(l) > count:\n",
    "                    count = list(neighs).count(l)\n",
    "                    label = l\n",
    "            predictions.append(label)\n",
    "        \n",
    "        return np.array(predictions)\n",
    "    \n",
    "    def accuracy_score(self, predicted_labels, labels):\n",
    "        TP = sum((predicted_labels==4) & (labels==4))\n",
    "        TN = sum((predicted_labels==2) & (labels==2))\n",
    "        return (TP + TN) / len(labels)\n",
    "    \n",
    "    "
   ]
  },
  {
   "cell_type": "markdown",
   "metadata": {},
   "source": [
    "## Performance metrics"
   ]
  },
  {
   "cell_type": "code",
   "execution_count": 14,
   "metadata": {
    "collapsed": true
   },
   "outputs": [],
   "source": [
    "## confusion matrix function; 2 for benign, 4 for malignant; malignant is True\n",
    "## the accuracy, TPR, PPV, TNR, F1_score\n",
    "def confusion_matrix(predicted_labels, labels):\n",
    "    FP = sum((labels==2) & (predicted_labels==4))\n",
    "    FN = sum((labels==4) & (predicted_labels==2))\n",
    "    TP = sum((labels==4) & (predicted_labels==4))\n",
    "    TN = sum((labels==2) & (predicted_labels==2))\n",
    "    \n",
    "    ## print performance metrics\n",
    "    accuracy = (TN + TP) / (TN + TP + FN + FP)\n",
    "    TPR = TP / (TP + FN)\n",
    "    PPV = TP / (TP + FP)\n",
    "    TNR = TN / (TN + FP)\n",
    "    F1_score = 2*PPV*TPR / (PPV+TPR)\n",
    "    metric = pd.DataFrame([accuracy, TPR, PPV, TNR, F1_score], ['ACCU', 'TPR', 'PPV', 'TNR', 'F1'], ['score'])\n",
    "    \n",
    "    ### print confusion matrix\n",
    "    conf_matrix = np.array([[TP, FN], [FP, TN]])\n",
    "    conf = pd.DataFrame(conf_matrix, ['malignant', 'benign'], ['malignant', 'benign'])\n",
    "    return metric, conf"
   ]
  },
  {
   "cell_type": "markdown",
   "metadata": {},
   "source": [
    "## Dicision tree implementaion "
   ]
  },
  {
   "cell_type": "code",
   "execution_count": 54,
   "metadata": {
    "collapsed": true
   },
   "outputs": [],
   "source": [
    "class Node:\n",
    "    def __init__(self, attr, thre):\n",
    "        self.attr = attr\n",
    "        self.thre = thre\n",
    "        self.height = None\n",
    "        self.left = None\n",
    "        self.right = None\n",
    "        self.leaf = False\n",
    "        self.predict = None\n",
    "\n",
    "        \n",
    "class DecisionTree:\n",
    "    def __init__(self, criterion='entropy', max_depth=None, impurity_thre=None):\n",
    "        self.X_train = None\n",
    "        self.y_train = None\n",
    "        self.colnames = None\n",
    "        self.criterion = criterion\n",
    "        self.max_depth = max_depth\n",
    "        self.impurity_thre = impurity_thre\n",
    "    \n",
    "    ## calculate the impurity measure we use, like gini, entropy, missclassification rate\n",
    "    def impurity_measure(self, training_data, training_labels):\n",
    "        impurity = None\n",
    "        ## positve label and negative label\n",
    "        p, n = sum(training_labels==4), sum(training_labels==2)\n",
    "        if self.criterion == 'entropy':   ## entropy\n",
    "            if p==0 or n==0:\n",
    "                impurity = 0\n",
    "            else:\n",
    "                impurity = -1*(p/(p+n)*math.log(p/(p+n),2) + n/(p+n)*math.log(n/(p+n),2))\n",
    "            return impurity  \n",
    "        if self.criterion == 'gini':      ## gini index, the smaller the better\n",
    "            if p==0 or n==0:\n",
    "                impurity = 0\n",
    "            else:\n",
    "                impurity = 1 - (p/(p+n))**2 - (n/(p+n))**2\n",
    "            return impurity  \n",
    "        if self.criterion == 'misclassification error':\n",
    "            if p==0 or n==0:\n",
    "                return 0\n",
    "            else:\n",
    "                impurity = 1- max(p/(p+n), n/(p+n))\n",
    "            return impurity\n",
    "        else:\n",
    "            print('Error, please specify a impurity measure !')\n",
    "    \n",
    "    def impurity_decrease(self, training_data, training_labels, attr, threshold):\n",
    "        sub_x1, sub_y1 = training_data[training_data[:, attr] > threshold], training_labels[training_data[:, attr] > threshold]\n",
    "        sub_x2, sub_y2 = training_data[training_data[:, attr] < threshold], training_labels[training_data[:, attr] < threshold]\n",
    "        length = len(training_labels)\n",
    "        \n",
    "        impurity = self.impurity_measure(training_data, training_labels)\n",
    "        \n",
    "        # calcualte weighted impurity after split\n",
    "        impurity_split = len(sub_y1) / length * self.impurity_measure(sub_x1, sub_y1) + len(sub_y2) / length * self.impurity_measure(sub_x2, sub_y2)\n",
    "        \n",
    "        # return impurity decrease\n",
    "        return impurity - impurity_split\n",
    "\n",
    "    ## choose the best split value for each attribute\n",
    "    def chose_thre(self, training_data, training_labels, attr):\n",
    "        # since it is ordinal data, we can find the threshold by iterating (v1+v2)/2\n",
    "        values = set(training_data[:, attr])    # unique values\n",
    "        values_sort = sorted(list(values))\n",
    "        attr_thre = 0\n",
    "        max_im_dec = float('-inf')\n",
    "        \n",
    "        # try all thresholds values \n",
    "        for i in range(len(values_sort)-1):\n",
    "            thre = (values_sort[i] + values_sort[i+1])/2\n",
    "            im_dec = self.impurity_decrease(training_data, training_labels, attr, thre)\n",
    "            if im_dec > max_im_dec:\n",
    "                max_im_dec = im_dec\n",
    "                attr_thre = thre\n",
    "        # find the best attr threshold\n",
    "        return attr_thre\n",
    "    \n",
    "    # select the best attr based on the informaiton gain and threshold\n",
    "    def chose_attr(self, training_data, training_labels):\n",
    "        max_im_dec = float('-inf')\n",
    "        best_thre = None\n",
    "        best_attr = None\n",
    "        for attr in range(training_data.shape[1]):\n",
    "            thre = self.chose_thre(training_data, training_labels, attr)\n",
    "            im_dec  = self.impurity_decrease(training_data, training_labels, attr, thre)\n",
    "            # chose the best attribute and the threshold associated\n",
    "            if im_dec > max_im_dec:\n",
    "                max_im_dec = im_dec\n",
    "                best_attr = attr\n",
    "                best_thre = thre\n",
    "        \n",
    "        return best_attr, best_thre\n",
    "    \n",
    "    # build the decision tree\n",
    "    def build_tree(self, training_data, training_labels, depth=1):\n",
    "        P, N = sum(training_labels==4), sum(training_labels==2)\n",
    "        \n",
    "        # P==0 or N==0\n",
    "        if P==0 or N==0:\n",
    "            leaf = Node(None, None)\n",
    "            leaf.leaf = True\n",
    "            leaf.predict = 4 if P > N else 2\n",
    "            return leaf\n",
    "        # max_depth\n",
    "        elif depth >= self.max_depth:\n",
    "            # create a leaf none, since it is well separated\n",
    "            leaf = Node(None, None)\n",
    "            leaf.leaf = True\n",
    "            leaf.predict = 4 if P > N else 2\n",
    "            return leaf\n",
    "        else:\n",
    "            best_attr, best_thre = self.chose_attr(training_data, training_labels)\n",
    "            impurity = self.impurity_decrease(training_data, training_labels, best_attr, best_thre)\n",
    "            # impurity threshold\n",
    "            if impurity < self.impurity_thre:\n",
    "                # create a leaf none, since it is well separated\n",
    "                leaf = Node(None, None)\n",
    "                leaf.leaf = True\n",
    "                leaf.predict = 4 if P > N else 2\n",
    "                return leaf\n",
    "                 \n",
    "            else:\n",
    "                root = Node(best_attr, best_thre)\n",
    "\n",
    "                # split data \n",
    "                sub_x1 = training_data[training_data[:, best_attr] < best_thre]\n",
    "                sub_y1 = training_labels[training_data[:, best_attr] < best_thre]\n",
    "                sub_x2 = training_data[training_data[:, best_attr] > best_thre]\n",
    "                sub_y2 = training_labels[training_data[:, best_attr] > best_thre] \n",
    "\n",
    "                # recursively bulid the tree\n",
    "                root.left = self.build_tree(sub_x1, sub_y1, depth+1)\n",
    "                root.right = self.build_tree(sub_x2, sub_y2, depth+1)\n",
    "\n",
    "                return root\n",
    "    \n",
    "    def print_tree(self, root, level=0):\n",
    "        print(level*' ', end=' ')\n",
    "        if root.leaf:\n",
    "            print(root.predict)\n",
    "        else:\n",
    "            print('%s < %.3f' %(self.colnames[root.attr], root.thre))\n",
    "        \n",
    "        if root.left:\n",
    "            self.print_tree(root.left, level+1)\n",
    "        if root.right:\n",
    "            self.print_tree(root.right, level + 1)\n",
    "        \n",
    "    # the depth of a tree   \n",
    "    def height(self, root):\n",
    "        height_left = 0\n",
    "        height_right = 0\n",
    "        if root.left:\n",
    "            height_left = self.height(root.left)\n",
    "        if root.right:\n",
    "            height_right = self.height(root.right)\n",
    "        if height_left > height_right:\n",
    "            return height_left + 1\n",
    "        else:\n",
    "            return height_right + 1\n",
    "            \n",
    "            \n",
    "    # fit the training data\n",
    "    def fit(self, training_data, training_labels, colnames):\n",
    "        self.X_train = training_data\n",
    "        self.y_train = training_labels\n",
    "        self.colnames = colnames\n",
    "        \n",
    "    # predict testing data\n",
    "    def predict(self, root, test_data):\n",
    "        \n",
    "        ## define a function to get the prediction for each obs\n",
    "        def predict_obs(node, obs):\n",
    "            if node.leaf:\n",
    "                return node.predict\n",
    "            if obs[node.attr] < node.thre:\n",
    "                return predict_obs(node.left, obs)\n",
    "            else:\n",
    "                return predict_obs(node.right, obs)\n",
    "        \n",
    "        predictions = []\n",
    "        for obs in test_data:\n",
    "            pred = predict_obs(root, obs)\n",
    "            predictions.append(pred)\n",
    "        return np.array(predictions)\n",
    "        \n",
    "    def accuracy_score(self, predicted_labels, labels):\n",
    "        TP = sum((predicted_labels==4) & (labels==4))\n",
    "        TN = sum((predicted_labels==2) & (labels==2))\n",
    "        return (TP + TN) / len(labels)\n",
    "    "
   ]
  },
  {
   "cell_type": "markdown",
   "metadata": {},
   "source": [
    "# Cross validataion "
   ]
  },
  {
   "cell_type": "code",
   "execution_count": 16,
   "metadata": {},
   "outputs": [
    {
     "name": "stdout",
     "output_type": "stream",
     "text": [
      "[0.64938942 0.75549346 0.82181715 0.86459853 0.90512955 0.94148238\n",
      " 0.96564001 0.98927807 1.        ]\n"
     ]
    }
   ],
   "source": [
    "## run pca analysis, get the principle components, the first 5 components\n",
    "x_mean = x - x.mean()\n",
    "u, s, vh = np.linalg.svd(x_mean)\n",
    "\n",
    "s2 = np.cumsum(s**2) / np.sum(s**2)\n",
    "print(s2)\n",
    "\n",
    "pc_x = x_mean @ vh.T[:, :5]"
   ]
  },
  {
   "cell_type": "code",
   "execution_count": 17,
   "metadata": {
    "collapsed": true
   },
   "outputs": [],
   "source": [
    "## random split data, training dataset (80%) and test dataset (20%)\n",
    "from sklearn.model_selection import train_test_split\n",
    "\n",
    "knn_train_x, knn_test_x, knn_train_y, knn_test_y = train_test_split(df_x, df_y, test_size=0.2)\n",
    "dt_train_x, dt_test_x, dt_train_y, dt_test_y = train_test_split(x, df_y, test_size=0.2)\n",
    "dt_pca_train_x, dt_pca_test_x, dt_pca_train_y, dt_pca_test_y = train_test_split(pc_x, df_y, test_size=0.2)"
   ]
  },
  {
   "cell_type": "code",
   "execution_count": 18,
   "metadata": {
    "collapsed": true
   },
   "outputs": [],
   "source": [
    "import random\n",
    "\n",
    "## run k-folder cross validation function \n",
    "def cv_train_test_split(X, Y, kfolder= 10):\n",
    "    X_split, Y_split = [], []\n",
    "    index = list(range(len(Y)))\n",
    "    random.shuffle(index)   ## shuffle the index to random select\n",
    "    fold_size = int(len(X) / kfolder) + (len(X)%kfolder > 0)\n",
    "    for i in range(kfolder):\n",
    "        X_fold = X[index[i*fold_size: (i+1)*fold_size]]\n",
    "        Y_fold = Y[index[i*fold_size: (i+1)*fold_size]]\n",
    "        X_split.append(X_fold)\n",
    "        Y_split.append(Y_fold)\n",
    "    return X_split, Y_split"
   ]
  },
  {
   "cell_type": "markdown",
   "metadata": {},
   "source": [
    "## KNN "
   ]
  },
  {
   "cell_type": "code",
   "execution_count": 19,
   "metadata": {
    "collapsed": true
   },
   "outputs": [],
   "source": [
    "knn_X, knn_Y = cv_train_test_split(knn_train_x, knn_train_y)"
   ]
  },
  {
   "cell_type": "code",
   "execution_count": 20,
   "metadata": {},
   "outputs": [
    {
     "name": "stdout",
     "output_type": "stream",
     "text": [
      "The accuracy score for k= 2 is 0.937\n",
      "The accuracy score for k= 3 is 0.966\n",
      "The accuracy score for k= 4 is 0.962\n",
      "The accuracy score for k= 5 is 0.964\n",
      "The accuracy score for k= 6 is 0.962\n",
      "The accuracy score for k= 7 is 0.961\n",
      "The accuracy score for k= 8 is 0.957\n",
      "The accuracy score for k= 17 is 0.961\n",
      "The accuracy score for k= 33 is 0.961\n"
     ]
    }
   ],
   "source": [
    "### KNN, to get the best k \n",
    "for k in [2,3,4,5,6,7,8,17,33]:\n",
    "    scores = []\n",
    "    for i in range(10):\n",
    "        x_train, x_test = np.concatenate(knn_X[:i] + knn_X[i+1:], axis = 0), knn_X[i]\n",
    "        y_train, y_test = np.concatenate(knn_Y[:i] + knn_Y[i+1:], axis = 0), knn_Y[i]\n",
    "        clf = KNN(k)\n",
    "        clf.fit(x_train, y_train)\n",
    "        p = clf.predict(x_test)\n",
    "        scores.append(clf.accuracy_score(p, y_test))\n",
    "    print('The accuracy score for k= %s is %.3f' %(str(k), sum(scores)/len(scores)))"
   ]
  },
  {
   "cell_type": "code",
   "execution_count": 21,
   "metadata": {
    "collapsed": true
   },
   "outputs": [],
   "source": [
    "## k=3 is the best, run KNN with test data with k=33\n",
    "k=3\n",
    "clf = KNN(k)\n",
    "clf.fit(knn_train_x, knn_train_y)\n",
    "p = clf.predict(knn_test_x)\n",
    "metric, confusion = confusion_matrix(p, knn_test_y)"
   ]
  },
  {
   "cell_type": "code",
   "execution_count": 22,
   "metadata": {},
   "outputs": [
    {
     "data": {
      "text/html": [
       "<div>\n",
       "<style>\n",
       "    .dataframe thead tr:only-child th {\n",
       "        text-align: right;\n",
       "    }\n",
       "\n",
       "    .dataframe thead th {\n",
       "        text-align: left;\n",
       "    }\n",
       "\n",
       "    .dataframe tbody tr th {\n",
       "        vertical-align: top;\n",
       "    }\n",
       "</style>\n",
       "<table border=\"1\" class=\"dataframe\">\n",
       "  <thead>\n",
       "    <tr style=\"text-align: right;\">\n",
       "      <th></th>\n",
       "      <th>score</th>\n",
       "    </tr>\n",
       "  </thead>\n",
       "  <tbody>\n",
       "    <tr>\n",
       "      <th>ACCU</th>\n",
       "      <td>0.957143</td>\n",
       "    </tr>\n",
       "    <tr>\n",
       "      <th>TPR</th>\n",
       "      <td>0.926829</td>\n",
       "    </tr>\n",
       "    <tr>\n",
       "      <th>PPV</th>\n",
       "      <td>0.926829</td>\n",
       "    </tr>\n",
       "    <tr>\n",
       "      <th>TNR</th>\n",
       "      <td>0.969697</td>\n",
       "    </tr>\n",
       "    <tr>\n",
       "      <th>F1</th>\n",
       "      <td>0.926829</td>\n",
       "    </tr>\n",
       "  </tbody>\n",
       "</table>\n",
       "</div>"
      ],
      "text/plain": [
       "         score\n",
       "ACCU  0.957143\n",
       "TPR   0.926829\n",
       "PPV   0.926829\n",
       "TNR   0.969697\n",
       "F1    0.926829"
      ]
     },
     "execution_count": 22,
     "metadata": {},
     "output_type": "execute_result"
    }
   ],
   "source": [
    "metric"
   ]
  },
  {
   "cell_type": "code",
   "execution_count": 23,
   "metadata": {},
   "outputs": [
    {
     "data": {
      "text/html": [
       "<div>\n",
       "<style>\n",
       "    .dataframe thead tr:only-child th {\n",
       "        text-align: right;\n",
       "    }\n",
       "\n",
       "    .dataframe thead th {\n",
       "        text-align: left;\n",
       "    }\n",
       "\n",
       "    .dataframe tbody tr th {\n",
       "        vertical-align: top;\n",
       "    }\n",
       "</style>\n",
       "<table border=\"1\" class=\"dataframe\">\n",
       "  <thead>\n",
       "    <tr style=\"text-align: right;\">\n",
       "      <th></th>\n",
       "      <th>malignant</th>\n",
       "      <th>benign</th>\n",
       "    </tr>\n",
       "  </thead>\n",
       "  <tbody>\n",
       "    <tr>\n",
       "      <th>malignant</th>\n",
       "      <td>38</td>\n",
       "      <td>3</td>\n",
       "    </tr>\n",
       "    <tr>\n",
       "      <th>benign</th>\n",
       "      <td>3</td>\n",
       "      <td>96</td>\n",
       "    </tr>\n",
       "  </tbody>\n",
       "</table>\n",
       "</div>"
      ],
      "text/plain": [
       "           malignant  benign\n",
       "malignant         38       3\n",
       "benign             3      96"
      ]
     },
     "execution_count": 23,
     "metadata": {},
     "output_type": "execute_result"
    }
   ],
   "source": [
    "confusion"
   ]
  },
  {
   "cell_type": "markdown",
   "metadata": {
    "collapsed": true
   },
   "source": [
    "## Decision Tree "
   ]
  },
  {
   "cell_type": "code",
   "execution_count": 56,
   "metadata": {
    "collapsed": true
   },
   "outputs": [],
   "source": [
    "## decison tree\n",
    "dtree_X, dtree_Y = cv_train_test_split(dt_train_x, dt_train_y)"
   ]
  },
  {
   "cell_type": "code",
   "execution_count": 58,
   "metadata": {},
   "outputs": [
    {
     "name": "stdout",
     "output_type": "stream",
     "text": [
      "The accuracy score for k=2, im=0.0 is 0.927\n",
      "The accuracy score for k=2, im=0.05 is 0.927\n",
      "The accuracy score for k=2, im=0.1 is 0.927\n",
      "The accuracy score for k=2, im=0.15 is 0.927\n",
      "The accuracy score for k=2, im=0.2 is 0.927\n",
      "The accuracy score for k=2, im=0.25 is 0.927\n",
      "The accuracy score for k=3, im=0.0 is 0.939\n",
      "The accuracy score for k=3, im=0.05 is 0.939\n",
      "The accuracy score for k=3, im=0.1 is 0.936\n",
      "The accuracy score for k=3, im=0.15 is 0.928\n",
      "The accuracy score for k=3, im=0.2 is 0.925\n",
      "The accuracy score for k=3, im=0.25 is 0.927\n",
      "The accuracy score for k=4, im=0.0 is 0.952\n",
      "The accuracy score for k=4, im=0.05 is 0.952\n",
      "The accuracy score for k=4, im=0.1 is 0.950\n",
      "The accuracy score for k=4, im=0.15 is 0.945\n",
      "The accuracy score for k=4, im=0.2 is 0.928\n",
      "The accuracy score for k=4, im=0.25 is 0.927\n",
      "The accuracy score for k=5, im=0.0 is 0.946\n",
      "The accuracy score for k=5, im=0.05 is 0.948\n",
      "The accuracy score for k=5, im=0.1 is 0.946\n",
      "The accuracy score for k=5, im=0.15 is 0.941\n",
      "The accuracy score for k=5, im=0.2 is 0.928\n",
      "The accuracy score for k=5, im=0.25 is 0.927\n",
      "The accuracy score for k=6, im=0.0 is 0.937\n",
      "The accuracy score for k=6, im=0.05 is 0.939\n",
      "The accuracy score for k=6, im=0.1 is 0.937\n",
      "The accuracy score for k=6, im=0.15 is 0.946\n",
      "The accuracy score for k=6, im=0.2 is 0.928\n",
      "The accuracy score for k=6, im=0.25 is 0.927\n",
      "The accuracy score for k=7, im=0.0 is 0.941\n",
      "The accuracy score for k=7, im=0.05 is 0.943\n",
      "The accuracy score for k=7, im=0.1 is 0.945\n",
      "The accuracy score for k=7, im=0.15 is 0.945\n",
      "The accuracy score for k=7, im=0.2 is 0.928\n",
      "The accuracy score for k=7, im=0.25 is 0.927\n",
      "The accuracy score for k=8, im=0.0 is 0.934\n",
      "The accuracy score for k=8, im=0.05 is 0.936\n",
      "The accuracy score for k=8, im=0.1 is 0.943\n",
      "The accuracy score for k=8, im=0.15 is 0.945\n",
      "The accuracy score for k=8, im=0.2 is 0.928\n",
      "The accuracy score for k=8, im=0.25 is 0.927\n",
      "The accuracy score for k=9, im=0.0 is 0.936\n",
      "The accuracy score for k=9, im=0.05 is 0.937\n",
      "The accuracy score for k=9, im=0.1 is 0.945\n",
      "The accuracy score for k=9, im=0.15 is 0.946\n",
      "The accuracy score for k=9, im=0.2 is 0.928\n",
      "The accuracy score for k=9, im=0.25 is 0.927\n",
      "The accuracy score for k=10, im=0.0 is 0.934\n",
      "The accuracy score for k=10, im=0.05 is 0.936\n",
      "The accuracy score for k=10, im=0.1 is 0.945\n",
      "The accuracy score for k=10, im=0.15 is 0.946\n",
      "The accuracy score for k=10, im=0.2 is 0.928\n",
      "The accuracy score for k=10, im=0.25 is 0.927\n"
     ]
    }
   ],
   "source": [
    "### decision tree\n",
    "### parameters: max_depth k from 2 to 10, impurity_decrease from 0 to 0.25 by step 0.05\n",
    "score_matrix = np.zeros((9, 6))\n",
    "\n",
    "for k in range(2,11):\n",
    "    for im in [x/100 for x in range(0, 30, 5)]:\n",
    "        scores = []\n",
    "        for i in range(10):\n",
    "            x_train, x_test = np.concatenate(dtree_X[:i] + dtree_X[i+1:], axis = 0), dtree_X[i]\n",
    "            y_train, y_test = np.concatenate(dtree_Y[:i] + dtree_Y[i+1:], axis = 0), dtree_Y[i]\n",
    "            t = DecisionTree('entropy', k, im)\n",
    "            t.fit(x_train, y_train, colnames)\n",
    "            tree = t.build_tree(x_train, y_train)\n",
    "            p = t.predict(tree, x_test)\n",
    "            scores.append(t.accuracy_score(p, y_test))\n",
    "        score_matrix[k-2, int(im*20)] = sum(scores)/len(scores)\n",
    "        print('The accuracy score for k=%s, im=%s is %.3f' %(str(k), str(im), sum(scores)/len(scores)))"
   ]
  },
  {
   "cell_type": "code",
   "execution_count": 63,
   "metadata": {
    "collapsed": true
   },
   "outputs": [],
   "source": [
    "## heatmap\n",
    "def plotHeatMap(data, x_title='X Axis', y_title='Y Axis', title='', x_ticks=[], y_ticks=[]):\n",
    "    \n",
    "    #Plot it out\n",
    "    fig, ax = plt.subplots()\n",
    "    ax = plt.gca()\n",
    "    heatmap = ax.pcolor(data, edgecolors='k', alpha=0.8)\n",
    "    \n",
    "    fig.colorbar(heatmap, ax=ax)\n",
    "    \n",
    "    # turn off the frame\n",
    "    #ax.set_frame_on(False)\n",
    "\n",
    "    # put the major ticks at the middle of each cell\n",
    "    ax.set_xticks(np.arange(len(x_ticks)) + 0.5, minor=False)\n",
    "    ax.set_yticks(np.arange(len(y_ticks)) + 0.5, minor=False)\n",
    "    \n",
    "    ax.set_xticklabels([str(i/20) for i in x_ticks], minor=False)\n",
    "    ax.set_yticklabels([str(y) for y in y_ticks], minor=False)\n",
    "    \n",
    "    ax.set_xlabel(x_title)\n",
    "    ax.set_ylabel(y_title)\n",
    "    ax.set_title(title)\n",
    "    \n",
    "    plt.show()"
   ]
  },
  {
   "cell_type": "code",
   "execution_count": 64,
   "metadata": {},
   "outputs": [
    {
     "data": {
      "image/png": "[encoded data removed]",
      "text/plain": [
       "<matplotlib.figure.Figure at 0x1c3e4b00>"
      ]
     },
     "metadata": {},
     "output_type": "display_data"
    }
   ],
   "source": [
    "plotHeatMap(score_matrix, y_title='max depth', x_title='impurtiy decrease',\\\n",
    "            title='Accuracy Score', y_ticks=range(2,11), x_ticks=range(6))"
   ]
  },
  {
   "cell_type": "code",
   "execution_count": 65,
   "metadata": {},
   "outputs": [
    {
     "data": {
      "text/html": [
       "<div>\n",
       "<style>\n",
       "    .dataframe thead tr:only-child th {\n",
       "        text-align: right;\n",
       "    }\n",
       "\n",
       "    .dataframe thead th {\n",
       "        text-align: left;\n",
       "    }\n",
       "\n",
       "    .dataframe tbody tr th {\n",
       "        vertical-align: top;\n",
       "    }\n",
       "</style>\n",
       "<table border=\"1\" class=\"dataframe\">\n",
       "  <thead>\n",
       "    <tr style=\"text-align: right;\">\n",
       "      <th></th>\n",
       "      <th>0.0</th>\n",
       "      <th>0.25</th>\n",
       "      <th>0.5</th>\n",
       "      <th>0.75</th>\n",
       "      <th>1.0</th>\n",
       "      <th>1.25</th>\n",
       "    </tr>\n",
       "  </thead>\n",
       "  <tbody>\n",
       "    <tr>\n",
       "      <th>2</th>\n",
       "      <td>0.926688</td>\n",
       "      <td>0.926688</td>\n",
       "      <td>0.926688</td>\n",
       "      <td>0.926688</td>\n",
       "      <td>0.926688</td>\n",
       "      <td>0.926688</td>\n",
       "    </tr>\n",
       "    <tr>\n",
       "      <th>3</th>\n",
       "      <td>0.939221</td>\n",
       "      <td>0.939221</td>\n",
       "      <td>0.935649</td>\n",
       "      <td>0.928474</td>\n",
       "      <td>0.924903</td>\n",
       "      <td>0.926688</td>\n",
       "    </tr>\n",
       "    <tr>\n",
       "      <th>4</th>\n",
       "      <td>0.951721</td>\n",
       "      <td>0.951721</td>\n",
       "      <td>0.949935</td>\n",
       "      <td>0.944545</td>\n",
       "      <td>0.928474</td>\n",
       "      <td>0.926688</td>\n",
       "    </tr>\n",
       "    <tr>\n",
       "      <th>5</th>\n",
       "      <td>0.946364</td>\n",
       "      <td>0.948149</td>\n",
       "      <td>0.946364</td>\n",
       "      <td>0.940974</td>\n",
       "      <td>0.928474</td>\n",
       "      <td>0.926688</td>\n",
       "    </tr>\n",
       "    <tr>\n",
       "      <th>6</th>\n",
       "      <td>0.937435</td>\n",
       "      <td>0.939221</td>\n",
       "      <td>0.937435</td>\n",
       "      <td>0.946331</td>\n",
       "      <td>0.928474</td>\n",
       "      <td>0.926688</td>\n",
       "    </tr>\n",
       "    <tr>\n",
       "      <th>7</th>\n",
       "      <td>0.940974</td>\n",
       "      <td>0.942760</td>\n",
       "      <td>0.944578</td>\n",
       "      <td>0.944545</td>\n",
       "      <td>0.928474</td>\n",
       "      <td>0.926688</td>\n",
       "    </tr>\n",
       "    <tr>\n",
       "      <th>8</th>\n",
       "      <td>0.933831</td>\n",
       "      <td>0.935617</td>\n",
       "      <td>0.942792</td>\n",
       "      <td>0.944545</td>\n",
       "      <td>0.928474</td>\n",
       "      <td>0.926688</td>\n",
       "    </tr>\n",
       "    <tr>\n",
       "      <th>9</th>\n",
       "      <td>0.935649</td>\n",
       "      <td>0.937435</td>\n",
       "      <td>0.944578</td>\n",
       "      <td>0.946331</td>\n",
       "      <td>0.928474</td>\n",
       "      <td>0.926688</td>\n",
       "    </tr>\n",
       "    <tr>\n",
       "      <th>10</th>\n",
       "      <td>0.933864</td>\n",
       "      <td>0.935649</td>\n",
       "      <td>0.944578</td>\n",
       "      <td>0.946331</td>\n",
       "      <td>0.928474</td>\n",
       "      <td>0.926688</td>\n",
       "    </tr>\n",
       "  </tbody>\n",
       "</table>\n",
       "</div>"
      ],
      "text/plain": [
       "         0.0      0.25       0.5      0.75       1.0      1.25\n",
       "2   0.926688  0.926688  0.926688  0.926688  0.926688  0.926688\n",
       "3   0.939221  0.939221  0.935649  0.928474  0.924903  0.926688\n",
       "4   0.951721  0.951721  0.949935  0.944545  0.928474  0.926688\n",
       "5   0.946364  0.948149  0.946364  0.940974  0.928474  0.926688\n",
       "6   0.937435  0.939221  0.937435  0.946331  0.928474  0.926688\n",
       "7   0.940974  0.942760  0.944578  0.944545  0.928474  0.926688\n",
       "8   0.933831  0.935617  0.942792  0.944545  0.928474  0.926688\n",
       "9   0.935649  0.937435  0.944578  0.946331  0.928474  0.926688\n",
       "10  0.933864  0.935649  0.944578  0.946331  0.928474  0.926688"
      ]
     },
     "execution_count": 65,
     "metadata": {},
     "output_type": "execute_result"
    }
   ],
   "source": [
    "score_df = pd.DataFrame(score_matrix, index = range(2,11), columns=[str(x/20) for x in range(0,30,5)])\n",
    "score_df"
   ]
  },
  {
   "cell_type": "code",
   "execution_count": 80,
   "metadata": {},
   "outputs": [
    {
     "name": "stdout",
     "output_type": "stream",
     "text": [
      "The tree height for entropy is 4\n",
      "         score\n",
      "ACCU  0.921429\n",
      "TPR   0.909091\n",
      "PPV   0.851064\n",
      "TNR   0.927083\n",
      "F1    0.879121\n",
      "           malignant  benign\n",
      "malignant         40       4\n",
      "benign             7      89\n"
     ]
    }
   ],
   "source": [
    "## max_depth is 4 and the impurity_increase=0.05 is the best, run DTree with test data\n",
    "k, im = 4, 0.05\n",
    "t = DecisionTree('entropy', k, im)\n",
    "t.fit(dt_train_x, dt_train_y, colnames)\n",
    "tree = t.build_tree(dt_train_x, dt_train_y)\n",
    "print(\"The tree height for entropy is %d\" % t.height(tree))\n",
    "p = t.predict(tree, dt_test_x)\n",
    "# metrics \n",
    "metric, confusion = confusion_matrix(p, dt_test_y)\n",
    "print(metric)\n",
    "print(confusion)"
   ]
  },
  {
   "cell_type": "code",
   "execution_count": 81,
   "metadata": {},
   "outputs": [
    {
     "name": "stdout",
     "output_type": "stream",
     "text": [
      "The tree height for gini is 4\n",
      "         score\n",
      "ACCU  0.914286\n",
      "TPR   0.840909\n",
      "PPV   0.880952\n",
      "TNR   0.947917\n",
      "F1    0.860465\n",
      "           malignant  benign\n",
      "malignant         37       7\n",
      "benign             5      91\n"
     ]
    }
   ],
   "source": [
    "## max_depth is 4 and the impurity_increase=0.05 is the best, run DTree with test data\n",
    "k, im = 4, 0.05\n",
    "t = DecisionTree('gini', k, im)\n",
    "t.fit(dt_train_x, dt_train_y, colnames)\n",
    "tree = t.build_tree(dt_train_x, dt_train_y)\n",
    "print(\"The tree height for gini is %d\" % t.height(tree))\n",
    "p = t.predict(tree, dt_test_x)\n",
    "# metrics \n",
    "metric, confusion = confusion_matrix(p, dt_test_y)\n",
    "print(metric)\n",
    "print(confusion)"
   ]
  },
  {
   "cell_type": "code",
   "execution_count": 82,
   "metadata": {},
   "outputs": [
    {
     "name": "stdout",
     "output_type": "stream",
     "text": [
      "The tree height for misclassification error is 2\n",
      "         score\n",
      "ACCU  0.907143\n",
      "TPR   0.818182\n",
      "PPV   0.878049\n",
      "TNR   0.947917\n",
      "F1    0.847059\n",
      "           malignant  benign\n",
      "malignant         36       8\n",
      "benign             5      91\n"
     ]
    }
   ],
   "source": [
    "## max_depth is 4 and the impurity_increase=0.05 is the best, run DTree with test data\n",
    "k, im = 4, 0.05\n",
    "t = DecisionTree('misclassification error', k, im)\n",
    "t.fit(dt_train_x, dt_train_y, colnames)\n",
    "tree = t.build_tree(dt_train_x, dt_train_y)\n",
    "print(\"The tree height for misclassification error is %d\" % t.height(tree))\n",
    "p = t.predict(tree, dt_test_x)\n",
    "# metrics \n",
    "metric, confusion = confusion_matrix(p, dt_test_y)\n",
    "print(metric)\n",
    "print(confusion)"
   ]
  },
  {
   "cell_type": "markdown",
   "metadata": {},
   "source": [
    "## Decision Tree with PCA"
   ]
  },
  {
   "cell_type": "code",
   "execution_count": 83,
   "metadata": {
    "collapsed": true
   },
   "outputs": [],
   "source": [
    "pca_X, pca_Y= cv_train_test_split(dt_pca_train_x, dt_pca_train_y)"
   ]
  },
  {
   "cell_type": "code",
   "execution_count": 84,
   "metadata": {},
   "outputs": [
    {
     "name": "stdout",
     "output_type": "stream",
     "text": [
      "The accuracy score for k=2, im=0.0 is 0.973\n",
      "The accuracy score for k=2, im=0.05 is 0.973\n",
      "The accuracy score for k=2, im=0.1 is 0.973\n",
      "The accuracy score for k=2, im=0.15 is 0.973\n",
      "The accuracy score for k=2, im=0.2 is 0.973\n",
      "The accuracy score for k=2, im=0.25 is 0.973\n",
      "The accuracy score for k=3, im=0.0 is 0.973\n",
      "The accuracy score for k=3, im=0.05 is 0.973\n",
      "The accuracy score for k=3, im=0.1 is 0.973\n",
      "The accuracy score for k=3, im=0.15 is 0.973\n",
      "The accuracy score for k=3, im=0.2 is 0.973\n",
      "The accuracy score for k=3, im=0.25 is 0.973\n",
      "The accuracy score for k=4, im=0.0 is 0.971\n",
      "The accuracy score for k=4, im=0.05 is 0.973\n",
      "The accuracy score for k=4, im=0.1 is 0.973\n",
      "The accuracy score for k=4, im=0.15 is 0.973\n",
      "The accuracy score for k=4, im=0.2 is 0.973\n",
      "The accuracy score for k=4, im=0.25 is 0.973\n",
      "The accuracy score for k=5, im=0.0 is 0.968\n",
      "The accuracy score for k=5, im=0.05 is 0.970\n",
      "The accuracy score for k=5, im=0.1 is 0.973\n",
      "The accuracy score for k=5, im=0.15 is 0.973\n",
      "The accuracy score for k=5, im=0.2 is 0.973\n",
      "The accuracy score for k=5, im=0.25 is 0.973\n",
      "The accuracy score for k=6, im=0.0 is 0.970\n",
      "The accuracy score for k=6, im=0.05 is 0.971\n",
      "The accuracy score for k=6, im=0.1 is 0.973\n",
      "The accuracy score for k=6, im=0.15 is 0.973\n",
      "The accuracy score for k=6, im=0.2 is 0.973\n",
      "The accuracy score for k=6, im=0.25 is 0.973\n",
      "The accuracy score for k=7, im=0.0 is 0.968\n",
      "The accuracy score for k=7, im=0.05 is 0.970\n",
      "The accuracy score for k=7, im=0.1 is 0.973\n",
      "The accuracy score for k=7, im=0.15 is 0.973\n",
      "The accuracy score for k=7, im=0.2 is 0.973\n",
      "The accuracy score for k=7, im=0.25 is 0.973\n",
      "The accuracy score for k=8, im=0.0 is 0.966\n",
      "The accuracy score for k=8, im=0.05 is 0.968\n",
      "The accuracy score for k=8, im=0.1 is 0.973\n",
      "The accuracy score for k=8, im=0.15 is 0.973\n",
      "The accuracy score for k=8, im=0.2 is 0.973\n",
      "The accuracy score for k=8, im=0.25 is 0.973\n",
      "The accuracy score for k=9, im=0.0 is 0.968\n",
      "The accuracy score for k=9, im=0.05 is 0.970\n",
      "The accuracy score for k=9, im=0.1 is 0.973\n",
      "The accuracy score for k=9, im=0.15 is 0.973\n",
      "The accuracy score for k=9, im=0.2 is 0.973\n",
      "The accuracy score for k=9, im=0.25 is 0.973\n",
      "The accuracy score for k=10, im=0.0 is 0.968\n",
      "The accuracy score for k=10, im=0.05 is 0.970\n",
      "The accuracy score for k=10, im=0.1 is 0.973\n",
      "The accuracy score for k=10, im=0.15 is 0.973\n",
      "The accuracy score for k=10, im=0.2 is 0.973\n",
      "The accuracy score for k=10, im=0.25 is 0.973\n"
     ]
    }
   ],
   "source": [
    "### decision tree with pca\n",
    "score_pca_matrix = np.zeros((9, 6))\n",
    "for k in range(2,11):\n",
    "    for im in [x/100 for x in range(0, 30, 5)]:\n",
    "        scores = []\n",
    "        for i in range(10):\n",
    "            x_train, x_test = np.concatenate(pca_X[:i] + pca_X[i+1:], axis = 0), pca_X[i]\n",
    "            y_train, y_test = np.concatenate(pca_Y[:i] + pca_Y[i+1:], axis = 0), pca_Y[i]\n",
    "            t = DecisionTree('entropy', k, im)\n",
    "            t.fit(x_train, y_train, colnames)\n",
    "            tree = t.build_tree(x_train, y_train)\n",
    "            p = t.predict(tree, x_test)\n",
    "            scores.append(t.accuracy_score(p, y_test))\n",
    "        print('The accuracy score for k=%s, im=%s is %.3f' %(str(k), str(im), sum(scores)/len(scores)))\n",
    "        score_pca_matrix[k-2, int(im*20)] = sum(scores)/len(scores)"
   ]
  },
  {
   "cell_type": "code",
   "execution_count": 85,
   "metadata": {
    "scrolled": true
   },
   "outputs": [
    {
     "data": {
      "image/png": "[encoded data removed]",
      "text/plain": [
       "<matplotlib.figure.Figure at 0x1c25d128>"
      ]
     },
     "metadata": {},
     "output_type": "display_data"
    }
   ],
   "source": [
    "plotHeatMap(score_pca_matrix, y_title='max depth', x_title='impurtiy decrease',\\\n",
    "            title='Accuracy Score', y_ticks=range(2,11), x_ticks=range(6))"
   ]
  },
  {
   "cell_type": "code",
   "execution_count": 86,
   "metadata": {},
   "outputs": [
    {
     "data": {
      "text/html": [
       "<div>\n",
       "<style>\n",
       "    .dataframe thead tr:only-child th {\n",
       "        text-align: right;\n",
       "    }\n",
       "\n",
       "    .dataframe thead th {\n",
       "        text-align: left;\n",
       "    }\n",
       "\n",
       "    .dataframe tbody tr th {\n",
       "        vertical-align: top;\n",
       "    }\n",
       "</style>\n",
       "<table border=\"1\" class=\"dataframe\">\n",
       "  <thead>\n",
       "    <tr style=\"text-align: right;\">\n",
       "      <th></th>\n",
       "      <th>0.0</th>\n",
       "      <th>0.25</th>\n",
       "      <th>0.5</th>\n",
       "      <th>0.75</th>\n",
       "      <th>1.0</th>\n",
       "      <th>1.25</th>\n",
       "    </tr>\n",
       "  </thead>\n",
       "  <tbody>\n",
       "    <tr>\n",
       "      <th>2</th>\n",
       "      <td>0.973182</td>\n",
       "      <td>0.973182</td>\n",
       "      <td>0.973182</td>\n",
       "      <td>0.973182</td>\n",
       "      <td>0.973182</td>\n",
       "      <td>0.973182</td>\n",
       "    </tr>\n",
       "    <tr>\n",
       "      <th>3</th>\n",
       "      <td>0.973182</td>\n",
       "      <td>0.973182</td>\n",
       "      <td>0.973182</td>\n",
       "      <td>0.973182</td>\n",
       "      <td>0.973182</td>\n",
       "      <td>0.973182</td>\n",
       "    </tr>\n",
       "    <tr>\n",
       "      <th>4</th>\n",
       "      <td>0.971396</td>\n",
       "      <td>0.973182</td>\n",
       "      <td>0.973182</td>\n",
       "      <td>0.973182</td>\n",
       "      <td>0.973182</td>\n",
       "      <td>0.973182</td>\n",
       "    </tr>\n",
       "    <tr>\n",
       "      <th>5</th>\n",
       "      <td>0.967792</td>\n",
       "      <td>0.969578</td>\n",
       "      <td>0.973182</td>\n",
       "      <td>0.973182</td>\n",
       "      <td>0.973182</td>\n",
       "      <td>0.973182</td>\n",
       "    </tr>\n",
       "    <tr>\n",
       "      <th>6</th>\n",
       "      <td>0.969578</td>\n",
       "      <td>0.971364</td>\n",
       "      <td>0.973182</td>\n",
       "      <td>0.973182</td>\n",
       "      <td>0.973182</td>\n",
       "      <td>0.973182</td>\n",
       "    </tr>\n",
       "    <tr>\n",
       "      <th>7</th>\n",
       "      <td>0.967792</td>\n",
       "      <td>0.969578</td>\n",
       "      <td>0.973182</td>\n",
       "      <td>0.973182</td>\n",
       "      <td>0.973182</td>\n",
       "      <td>0.973182</td>\n",
       "    </tr>\n",
       "    <tr>\n",
       "      <th>8</th>\n",
       "      <td>0.965974</td>\n",
       "      <td>0.967760</td>\n",
       "      <td>0.973182</td>\n",
       "      <td>0.973182</td>\n",
       "      <td>0.973182</td>\n",
       "      <td>0.973182</td>\n",
       "    </tr>\n",
       "    <tr>\n",
       "      <th>9</th>\n",
       "      <td>0.967760</td>\n",
       "      <td>0.969545</td>\n",
       "      <td>0.973182</td>\n",
       "      <td>0.973182</td>\n",
       "      <td>0.973182</td>\n",
       "      <td>0.973182</td>\n",
       "    </tr>\n",
       "    <tr>\n",
       "      <th>10</th>\n",
       "      <td>0.967760</td>\n",
       "      <td>0.969545</td>\n",
       "      <td>0.973182</td>\n",
       "      <td>0.973182</td>\n",
       "      <td>0.973182</td>\n",
       "      <td>0.973182</td>\n",
       "    </tr>\n",
       "  </tbody>\n",
       "</table>\n",
       "</div>"
      ],
      "text/plain": [
       "         0.0      0.25       0.5      0.75       1.0      1.25\n",
       "2   0.973182  0.973182  0.973182  0.973182  0.973182  0.973182\n",
       "3   0.973182  0.973182  0.973182  0.973182  0.973182  0.973182\n",
       "4   0.971396  0.973182  0.973182  0.973182  0.973182  0.973182\n",
       "5   0.967792  0.969578  0.973182  0.973182  0.973182  0.973182\n",
       "6   0.969578  0.971364  0.973182  0.973182  0.973182  0.973182\n",
       "7   0.967792  0.969578  0.973182  0.973182  0.973182  0.973182\n",
       "8   0.965974  0.967760  0.973182  0.973182  0.973182  0.973182\n",
       "9   0.967760  0.969545  0.973182  0.973182  0.973182  0.973182\n",
       "10  0.967760  0.969545  0.973182  0.973182  0.973182  0.973182"
      ]
     },
     "execution_count": 86,
     "metadata": {},
     "output_type": "execute_result"
    }
   ],
   "source": [
    "score_pca_df = pd.DataFrame(score_pca_matrix, index = range(2,11), columns=[str(x/20) for x in range(0,30,5)])\n",
    "score_pca_df"
   ]
  },
  {
   "cell_type": "code",
   "execution_count": 87,
   "metadata": {},
   "outputs": [
    {
     "name": "stdout",
     "output_type": "stream",
     "text": [
      "The tree height for entropy is 4\n",
      "         score\n",
      "ACCU  0.964286\n",
      "TPR   1.000000\n",
      "PPV   0.909091\n",
      "TNR   0.944444\n",
      "F1    0.952381\n",
      "           malignant  benign\n",
      "malignant         50       0\n",
      "benign             5      85\n"
     ]
    }
   ],
   "source": [
    "## max_depth is 4 and the impurity_increase=0.05 is the best, run DTree with test data\n",
    "k, im = 4, 0.05\n",
    "t = DecisionTree('entropy', k, im)\n",
    "t.fit(dt_pca_train_x, dt_pca_train_y, colnames)\n",
    "tree = t.build_tree(dt_pca_train_x, dt_pca_train_y)\n",
    "print(\"The tree height for entropy is %d\" % t.height(tree))\n",
    "p = t.predict(tree, dt_pca_test_x)\n",
    "# metrics \n",
    "metric, confusion = confusion_matrix(p, dt_pca_test_y)\n",
    "print(metric)\n",
    "print(confusion)"
   ]
  },
  {
   "cell_type": "code",
   "execution_count": 88,
   "metadata": {},
   "outputs": [
    {
     "name": "stdout",
     "output_type": "stream",
     "text": [
      "The tree height for gini index is 2\n",
      "         score\n",
      "ACCU  0.964286\n",
      "TPR   1.000000\n",
      "PPV   0.909091\n",
      "TNR   0.944444\n",
      "F1    0.952381\n",
      "           malignant  benign\n",
      "malignant         50       0\n",
      "benign             5      85\n"
     ]
    }
   ],
   "source": [
    "## max_depth is 4 and the impurity_increase=0.05 is the best, run DTree with test data\n",
    "k, im = 4, 0.05\n",
    "t = DecisionTree('gini', k, im)\n",
    "t.fit(dt_pca_train_x, dt_pca_train_y, colnames)\n",
    "tree = t.build_tree(dt_pca_train_x, dt_pca_train_y)\n",
    "print(\"The tree height for gini index is %d\" % t.height(tree))\n",
    "p = t.predict(tree, dt_pca_test_x)\n",
    "# metrics \n",
    "metric, confusion = confusion_matrix(p, dt_pca_test_y)\n",
    "print(metric)\n",
    "print(confusion)"
   ]
  },
  {
   "cell_type": "code",
   "execution_count": 89,
   "metadata": {},
   "outputs": [
    {
     "name": "stdout",
     "output_type": "stream",
     "text": [
      "The tree height for misclassification error is 2\n",
      "         score\n",
      "ACCU  0.964286\n",
      "TPR   1.000000\n",
      "PPV   0.909091\n",
      "TNR   0.944444\n",
      "F1    0.952381\n",
      "           malignant  benign\n",
      "malignant         50       0\n",
      "benign             5      85\n"
     ]
    }
   ],
   "source": [
    "## max_depth is 4 and the impurity_increase=0.05 is the best, run DTree with test data\n",
    "k, im = 4, 0.05\n",
    "t = DecisionTree('misclassification error', k, im)\n",
    "t.fit(dt_pca_train_x, dt_pca_train_y, colnames)\n",
    "tree = t.build_tree(dt_pca_train_x, dt_pca_train_y)\n",
    "print(\"The tree height for misclassification error is %d\" % t.height(tree))\n",
    "p = t.predict(tree, dt_pca_test_x)\n",
    "# metrics \n",
    "metric, confusion = confusion_matrix(p, dt_pca_test_y)\n",
    "print(metric)\n",
    "print(confusion)"
   ]
  }
 ],
 "metadata": {
  "kernelspec": {
   "display_name": "Python 3",
   "language": "python",
   "name": "python3"
  },
  "language_info": {
   "codemirror_mode": {
    "name": "ipython",
    "version": 3
   },
   "file_extension": ".py",
   "mimetype": "text/x-python",
   "name": "python",
   "nbconvert_exporter": "python",
   "pygments_lexer": "ipython3",
   "version": "3.6.4"
  }
 },
 "nbformat": 4,
 "nbformat_minor": 2
}
